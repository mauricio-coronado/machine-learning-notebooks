{
 "cells": [
  {
   "cell_type": "markdown",
   "metadata": {
    "id": "ml0MN3ic5HxA"
   },
   "source": [
    "# STA414/2104 (Winter 2022) Probabilistic ML: Homework 3\n",
    "\n",
    "- **Deadline**: Wed, March 23\n",
    "- **Submission**: You need to submit your solutions through Crowdmark, including all your derivations, plots, and your code. You can produce the files however you like (e.g. $\\LaTeX$, Microsoft Word, etc), as long as it is readable. Points will be deducted if we have a hard time reading your solutions or understanding the structure of your code.\n",
    "- **Collaboration policy**: After attempting the problems on an individual basis, you may discuss and work together on the assignment with up to two classmates. However, **you must write your own code and write up your own solutions individually and explicitly name any collaborators** at the top of the homework."
   ]
  },
  {
   "cell_type": "markdown",
   "metadata": {
    "id": "zpoL7G6G5QEG"
   },
   "source": [
    "## Your Info\n",
    "\n",
    "- **Name:** Mauricio Coronado\n",
    "- **Student Number:** \n",
    "- **Collaborators:** Ruihua Qiao, Han Han"
   ]
  },
  {
   "cell_type": "markdown",
   "metadata": {
    "id": "t1RKToQQcX2Q"
   },
   "source": [
    "# 1. [50pts] Stochastic Variational Inference in the TrueSkill Model\n",
    "\n",
    "## Background\n",
    "\n",
    "We'll continue working with [TrueSkill](http://papers.nips.cc/paper/3079-trueskilltm-a-bayesian-skill-rating-system.pdf) model, a player ranking system for competitive games originally developed for Halo 2. Recall the model:\n",
    "\n",
    "\n",
    "## Model definition\n",
    "\n",
    "We assume that each player has a true, but unknown skill $z_i \\in \\mathbb{R}$.\n",
    "We use $N$ to denote the number of players.\n",
    "\n",
    "### The prior:\n",
    "The prior over each player's skill is a standard normal distribution, and all player's skills are *a priori* independent.\n",
    "\n",
    "### The likelihood:\n",
    "For each observed game, the probability that player $i$ beats player $j$, given the player's skills $z_A$ and $z_B$, is:\n",
    "$$p(A \\,\\, \\text{beat} \\,\\, B | z_A, z_B) = \\sigma(z_i - z_j)$$\n",
    "where\n",
    "$$\\sigma(y) = \\frac{1}{1 + \\exp(-y)}$$\n",
    "We chose this function simply because it's close to zero or one when the player's skills are very different, and equals one-half when the player skills are the same.  This likelihood function is the only thing that gives meaning to the latent skill variables $z_1 \\dots z_N$.\n",
    "\n",
    "There can be more than one game played between a pair of players. The outcome of each game is independent given the players' skills.\n",
    "We use $M$ to denote the number of games.\n"
   ]
  },
  {
   "cell_type": "code",
   "execution_count": 2,
   "metadata": {
    "colab": {
     "base_uri": "https://localhost:8080/"
    },
    "id": "n6euHm_h4Voi",
    "outputId": "c84bae54-4fad-4407-be7e-0a693465fbb1"
   },
   "outputs": [
    {
     "name": "stdout",
     "output_type": "stream",
     "text": [
      "Requirement already satisfied: wget in /opt/conda/lib/python3.8/site-packages (3.2)\r\n"
     ]
    }
   ],
   "source": [
    "!pip install wget\n",
    "import os\n",
    "import os.path\n",
    "import matplotlib.pyplot as plt\n",
    "import wget\n",
    "import jax\n",
    "import jax.numpy as np\n",
    "import scipy.io\n",
    "import scipy.stats\n",
    "import matplotlib.pyplot as plt\n",
    "\n",
    "from jax import jit, grad\n",
    "from jax.ops import index_update\n",
    "from jax.random import PRNGKey, normal, split, uniform\n",
    "from jax.scipy.stats import norm\n",
    "from jax import random, vmap\n",
    "from jax.example_libraries import optimizers\n",
    "from tqdm import trange, tqdm_notebook\n",
    "from functools import partial"
   ]
  },
  {
   "cell_type": "markdown",
   "metadata": {
    "id": "-bf1iLXTkXd5"
   },
   "source": [
    "# 1.1 [0pts] Implementing the TrueSkill Model\n",
    "\n"
   ]
  },
  {
   "cell_type": "markdown",
   "metadata": {
    "id": "A62Y2IWg39ix"
   },
   "source": [
    "This part was mostly done in Assignment 2. We will recall some useful functions.\n",
    "\n",
    "**a)** The function $\\texttt{log_joint_prior}$ computes the log of the prior, jointly evaluated over all player's skills."
   ]
  },
  {
   "cell_type": "code",
   "execution_count": 105,
   "metadata": {
    "id": "PDmHDiac4Rpr"
   },
   "outputs": [],
   "source": [
    "def log_joint_prior(zs_array):\n",
    "    return np.sum(norm.logpdf(zs_array, 0.0, 1.0), axis=-1)"
   ]
  },
  {
   "cell_type": "markdown",
   "metadata": {
    "id": "AAbAgxMl4X2q"
   },
   "source": [
    "**b)** The function `logp_a_beats_b` that, given a pair of skills $z_a$ and $z_b$, evaluates the log-likelihood that player with skill $z_a$ beat player with skill $z_b$ under the model detailed above.\n",
    "\n",
    "To ensure numerical stability, we use the function `np.log1p` that computes $\\log(1 + x)$ in a numerically stable way.  Or even better, use `np.logaddexp`."
   ]
  },
  {
   "cell_type": "code",
   "execution_count": 106,
   "metadata": {
    "id": "V7nUXkYl_f4T"
   },
   "outputs": [],
   "source": [
    "def logp_a_beats_b(z_a, z_b):\n",
    "    return -np.logaddexp(0.0, z_b - z_a)\n",
    "\n",
    "def log_prior_over_2_players(z1, z2):\n",
    "    return norm.logpdf(z1, 0.0, 1.0) + norm.logpdf(z2, 0.0, 1.0)\n",
    "\n",
    "def prior_over_2_players(z1, z2):\n",
    "    return np.exp(log_prior_over_2_players(z1, z2))\n",
    "\n",
    "def log_posterior_A_beat_B(z1, z2):\n",
    "    return log_prior_over_2_players(z1, z2) + logp_a_beats_b(z1, z2)\n",
    "\n",
    "def posterior_A_beat_B(z1, z2):\n",
    "    return np.exp(log_posterior_A_beat_B(z1, z2))\n",
    "\n",
    "def log_posterior_A_beat_B_10_times(z1, z2):\n",
    "    return log_prior_over_2_players(z1, z2) + 10.0 * logp_a_beats_b(z1, z2)\n",
    "\n",
    "def posterior_A_beat_B_10_times(z1, z2):\n",
    "    return np.exp(log_posterior_A_beat_B_10_times(z1, z2))\n",
    "\n",
    "def log_posterior_beat_each_other_10_times(z1, z2):\n",
    "    return log_prior_over_2_players(z1, z2) \\\n",
    "        + 10.* logp_a_beats_b(z1, z2) \\\n",
    "        + 10.* logp_a_beats_b(z2, z1)\n",
    "\n",
    "def posterior_beat_each_other_10_times(z1, z2):\n",
    "    return np.exp(log_posterior_beat_each_other_10_times(z1, z2))"
   ]
  },
  {
   "cell_type": "markdown",
   "metadata": {
    "id": "hA77ZVR5SgGs"
   },
   "source": [
    "The following functions will be used for plotting.  Note that `plot_2d_fun` can now take an optional second function, so you can compare two functions."
   ]
  },
  {
   "cell_type": "code",
   "execution_count": 107,
   "metadata": {
    "id": "at7JEyWs_QRK"
   },
   "outputs": [],
   "source": [
    "# Plotting helper functions for free\n",
    "def plot_isocontours(ax, func, xlimits=[-3, 3], ylimits=[-3, 3], numticks=101, cmap=\"summer\"):\n",
    "    x = np.linspace(*xlimits, num=numticks)\n",
    "    y = np.linspace(*ylimits, num=numticks)\n",
    "    X, Y = np.meshgrid(x, y)\n",
    "    zs = func(X.ravel(), Y.ravel())\n",
    "    Z = zs.reshape(X.shape)\n",
    "    plt.contour(X, Y, Z, cmap=cmap)\n",
    "    ax.set_yticks([])\n",
    "    ax.set_xticks([])\n",
    "\n",
    "def plot_2d_fun(f, x_axis_label=\"\", y_axis_label=\"\", f2=None, scatter_pts=None):\n",
    "    # This is the function your code should call.\n",
    "    # f() should take two arguments.\n",
    "    fig = plt.figure(figsize=(8,8), facecolor='white')\n",
    "    ax = fig.add_subplot(111, frameon=False)\n",
    "    ax.set_xlabel(x_axis_label)\n",
    "    ax.set_ylabel(y_axis_label)\n",
    "    plot_isocontours(ax, f)\n",
    "    if f2 is not None:\n",
    "      plot_isocontours(ax, f2, cmap='winter')\n",
    "\n",
    "    if scatter_pts is not None:\n",
    "      plt.scatter(scatter_pts[:,0], scatter_pts[:, 1])\n",
    "    plt.plot([3, -3], [3, -3], 'b--')   # Line of equal skill\n",
    "    plt.show(block=True)\n",
    "    plt.draw()    "
   ]
  },
  {
   "cell_type": "markdown",
   "metadata": {
    "id": "nm-SM6Fc4yz8"
   },
   "source": [
    "## **1.2 [25pts]** Stochastic Variational Inference on Two Players and Toy Data\n",
    "\n",
    "One nice thing about a Bayesian approach is that it separates the model specification from the approximate inference strategy.\n",
    "The original Trueskill paper from 2007 used message passing.\n",
    "\n",
    "In this question we will  approximate posterior distributions with gradient-based stochastic variational inference.\n",
    "\n",
    "The parameters are $\\phi = (\\mu,\\log(\\sigma))$. Notice that instead of $\\sigma$ (which is constrained to be positive), we work with $\\log(\\sigma)$, removing the constraint. This way, we can do unconstrained gradient-based optimization.\n",
    "\n"
   ]
  },
  {
   "cell_type": "markdown",
   "metadata": {
    "id": "K-ri8HRQ461m"
   },
   "source": [
    "**a) [15pt]** Implement the missing lines in the below code, to complete the evidence lower bound function and the reparameterized sampler for the approximate posterior.\n",
    "\n",
    "Hint 1: You must use the reparametrization trick in your sampler if you want your gradients to be unbiased.\n",
    "\n",
    "Hint 2: Instead of including batch dimensions, you can simply use the `vmap` higher-order function, which takes in a function and returns another one that broadcasts the first function along a new axis.\n",
    "\n",
    "Hint 3: If you're worried you got these wrong, you can check that the sampler matches the log pdf by plotting a histogram of samples against a plot of the pdf."
   ]
  },
  {
   "cell_type": "code",
   "execution_count": 108,
   "metadata": {
    "id": "kZlCOViq5Ahf"
   },
   "outputs": [],
   "source": [
    "def diag_gaussian_sample(rng, mean, log_std):\n",
    "  # Take a single sample from a diagonal multivariate Gaussian.\n",
    "\n",
    "  # TODO.  You might want to use random.normal(), but remember\n",
    "  # you must use the reparameterization trick.  Also remember that\n",
    "  # we are parameterizing the _log_ of the standard deviation.\n",
    "\n",
    "    return mean + np.exp(log_std) * random.normal(rng, mean.shape)\n",
    "\n",
    "    \n",
    "def diag_gaussian_logpdf(x, mean, log_std):\n",
    "    # Evaluate the density of single point on a diagonal multivariate Gaussian.\n",
    "    return np.sum(vmap(norm.logpdf)(x, mean, np.exp(log_std)))# TODO\n",
    "\n",
    "def elbo(logprob, rng, mean, log_std):\n",
    "      # Single-sample Monte Carlo estimate of the variational lower bound.\n",
    "    sampled_zs = diag_gaussian_sample(rng, mean, log_std)# TODO\n",
    "    return logprob(sampled_zs) - diag_gaussian_logpdf(sampled_zs, mean, log_std)# TODO \n",
    "\n",
    "def batch_elbo(logprob, rng, params, num_samples):\n",
    "    # Average over a batch of random samples. \n",
    "    rngs = random.split(rng, num_samples)\n",
    "    vectorized_elbo = vmap(partial(elbo, logprob), in_axes=(0, None, None))\n",
    "    elbo_estimates = vectorized_elbo(rngs, *params)\n",
    "    return np.mean(elbo_estimates)# TODO: Use simple Monte Carlo to combine your estimates\n",
    "  "
   ]
  },
  {
   "cell_type": "markdown",
   "metadata": {
    "id": "lfAD3ffb5CD9"
   },
   "source": [
    "\n",
    "**b) [4pts]** Write a loss function called $\\texttt{objective}$  that takes variational distribution parameters and an array of game outcomes, and returns an unbiased estimate of the negative elbo using $\\texttt{num_samples_per_iter}$ samples, to approximate the joint posterior over skills conditioned on observing player A winning 10 games.\n",
    "\n",
    "Note: We want a _negative_ ELBO estimate, because the convention in optimization is to minimize functions, and we want to maximize the ELBO."
   ]
  },
  {
   "cell_type": "code",
   "execution_count": 109,
   "metadata": {
    "id": "j-Qt2vqvKgAN"
   },
   "outputs": [],
   "source": [
    "# Hyperparameters\n",
    "num_players = 2\n",
    "n_iters = 800\n",
    "stepsize = 0.0001\n",
    "num_samples_per_iter = 50\n",
    "key = PRNGKey(0)\n",
    "\n",
    "def log_posterior_A_beat_B_10_times_1_arg(z1z2):\n",
    "    return log_posterior_A_beat_B_10_times(z1z2[0], z1z2[1])\n",
    "\n",
    "def objective(params, t):  # The loss function to be minimized.\n",
    "    rng = random.PRNGKey(t)\n",
    "    return -1*batch_elbo(log_posterior_A_beat_B_10_times_1_arg, rng, params, num_samples_per_iter) # TODO.  Hint:  This can be done in one line."
   ]
  },
  {
   "cell_type": "markdown",
   "metadata": {
    "id": "ixGDUDjwKnWd"
   },
   "source": [
    "**c) [1pts]** Initialize a set of variational parameters and optimize them to approximate the joint where we observe player A winning 10 games. Report the final loss. Also plot the optimized variational approximation contours and the target distribution on the same axes.\n",
    "\n",
    "Hint:  Any initialization should be fine.  How many variational parameters do you need?"
   ]
  },
  {
   "cell_type": "code",
   "execution_count": 110,
   "metadata": {},
   "outputs": [],
   "source": [
    "?grad"
   ]
  },
  {
   "cell_type": "code",
   "execution_count": 111,
   "metadata": {},
   "outputs": [],
   "source": [
    "opt_init, opt_update, get_params = optimizers.momentum(step_size=0.1, mass=0.9)"
   ]
  },
  {
   "cell_type": "code",
   "execution_count": 112,
   "metadata": {},
   "outputs": [],
   "source": [
    "?optimizers.momentum"
   ]
  },
  {
   "cell_type": "code",
   "execution_count": 113,
   "metadata": {
    "id": "biW5JiZq5EXc"
   },
   "outputs": [
    {
     "name": "stderr",
     "output_type": "stream",
     "text": [
      "  0%|          | 0/800 [00:00<?, ?it/s]"
     ]
    },
    {
     "name": "stdout",
     "output_type": "stream",
     "text": [
      "Optimizing variational parameters...\n"
     ]
    },
    {
     "name": "stderr",
     "output_type": "stream",
     "text": [
      " 25%|██▌       | 201/800 [00:01<07:57,  1.26it/s]"
     ]
    },
    {
     "name": "stdout",
     "output_type": "stream",
     "text": [
      "Iteration 0 lower bound 4.89119815826416\n",
      "Iteration 25 lower bound 3.1868278980255127\n",
      "Iteration 50 lower bound 3.023127317428589\n",
      "Iteration 75 lower bound 3.071540355682373\n",
      "Iteration 100 lower bound 2.922780990600586\n",
      "Iteration 125 lower bound 3.0607519149780273\n",
      "Iteration 150 lower bound 2.9616289138793945\n",
      "Iteration 175 lower bound 2.933382272720337\n",
      "Iteration 200 lower bound 2.9295947551727295\n",
      "Iteration 225 lower bound 3.0403811931610107\n",
      "Iteration 250 lower bound 2.9081027507781982\n",
      "Iteration 275 lower bound 3.0254149436950684\n",
      "Iteration 300 lower bound 2.9337174892425537\n",
      "Iteration 325 lower bound 2.915977716445923\n",
      "Iteration 350 lower bound 3.0472400188446045\n",
      "Iteration 375 lower bound 3.0245954990386963\n"
     ]
    },
    {
     "name": "stderr",
     "output_type": "stream",
     "text": [
      "100%|██████████| 800/800 [00:01<00:00, 520.62it/s]"
     ]
    },
    {
     "name": "stdout",
     "output_type": "stream",
     "text": [
      "Iteration 400 lower bound 2.900169849395752\n",
      "Iteration 425 lower bound 3.005176305770874\n",
      "Iteration 450 lower bound 2.902907133102417\n",
      "Iteration 475 lower bound 3.0870468616485596\n",
      "Iteration 500 lower bound 2.9341259002685547\n",
      "Iteration 525 lower bound 2.8127903938293457\n",
      "Iteration 550 lower bound 3.1425201892852783\n",
      "Iteration 575 lower bound 3.099687337875366\n",
      "Iteration 600 lower bound 2.7920753955841064\n",
      "Iteration 625 lower bound 2.961296319961548\n",
      "Iteration 650 lower bound 3.0898983478546143\n",
      "Iteration 675 lower bound 2.948496103286743\n",
      "Iteration 700 lower bound 2.8852975368499756\n",
      "Iteration 725 lower bound 2.948615074157715\n",
      "Iteration 750 lower bound 2.8670504093170166\n",
      "Iteration 775 lower bound 2.976224184036255\n"
     ]
    },
    {
     "name": "stderr",
     "output_type": "stream",
     "text": [
      "\n"
     ]
    },
    {
     "data": {
      "image/png": "[encoded data removed]",
      "text/plain": [
       "<Figure size 576x576 with 1 Axes>"
      ]
     },
     "metadata": {},
     "output_type": "display_data"
    },
    {
     "data": {
      "text/plain": [
       "<Figure size 432x288 with 0 Axes>"
      ]
     },
     "metadata": {},
     "output_type": "display_data"
    }
   ],
   "source": [
    "def callback(params, t):\n",
    "  if t % 25 == 0:\n",
    "    print(\"Iteration {} lower bound {}\".format(t, objective(params, t)))\n",
    "\n",
    "# Set up optimizer.\n",
    "D = 2\n",
    "init_mean     = np.zeros(D)\n",
    "init_log_std  = np.zeros(D) # TODO.\n",
    "init_params = (init_mean, init_log_std)\n",
    "opt_init, opt_update, get_params = optimizers.momentum(step_size=0.1, mass=0.9)\n",
    "opt_state = opt_init(init_params)\n",
    "\n",
    "@jit\n",
    "def update(i, opt_state):\n",
    "    params = get_params(opt_state) \n",
    "    gradient = grad(objective)(params, i)\n",
    "    return opt_update(i, gradient, opt_state)\n",
    "\n",
    "# Main loop.\n",
    "print(\"Optimizing variational parameters...\")\n",
    "for t in trange(0, n_iters):\n",
    "    opt_state = update(t, opt_state)\n",
    "    params = get_params(opt_state)\n",
    "    callback(params, t)\n",
    "\n",
    "\n",
    "def approx_posterior_2d(z1, z2):\n",
    "    # The approximate posterior\n",
    "    mean, logstd = params\n",
    "    return np.exp(diag_gaussian_logpdf(np.array([z1, z2]), mean, logstd))\n",
    "\n",
    "approx_posterior_2d_batched = vmap(approx_posterior_2d, in_axes=(0, 0))\n",
    "\n",
    "plot_2d_fun(posterior_A_beat_B_10_times, \"Player A Skill\", \"Player B Skill\",\n",
    "            f2=approx_posterior_2d_batched)"
   ]
  },
  {
   "cell_type": "markdown",
   "metadata": {
    "id": "sCmqGbeK5iAf"
   },
   "source": [
    "**d) [4pt]** Write a loss function called $\\texttt{objective}$  that takes variational distribution parameters and an array of game outcomes, and returns a negative elbo estimate using simple Monte carlo with $\\texttt{num_samples_per_iter}$ samples, to approximate the joint where we observe player A winning 10 games and player B winning 10 games.\n",
    "\n",
    "Hint:  You can find analogous functions in the code above.\n"
   ]
  },
  {
   "cell_type": "code",
   "execution_count": 114,
   "metadata": {
    "id": "5Zz6DkOacXDC"
   },
   "outputs": [],
   "source": [
    "# Hyperparameters\n",
    "n_iters = 100\n",
    "stepsize = 0.0001\n",
    "num_samples_per_iter = 50\n",
    "key = PRNGKey(0)\n",
    "\n",
    "def log_posterior_beat_each_other_10_times_1_arg(z1z2):\n",
    "    return log_posterior_beat_each_other_10_times(z1z2[0], z1z2[1])# TODO\n",
    "\n",
    "def objective(params, t):\n",
    "    rng = random.PRNGKey(t)\n",
    "    return -1*batch_elbo(log_posterior_beat_each_other_10_times_1_arg, rng, params, num_samples_per_iter)# TODO"
   ]
  },
  {
   "cell_type": "markdown",
   "metadata": {
    "id": "_V42MMIscvMs"
   },
   "source": [
    "**e) [1pts]** Run the code below to optimize, and report the final loss. Also plot the optimized variational approximation contours and the target distribution on the same axes."
   ]
  },
  {
   "cell_type": "code",
   "execution_count": 115,
   "metadata": {
    "id": "ksjggALU5gWx"
   },
   "outputs": [
    {
     "name": "stderr",
     "output_type": "stream",
     "text": [
      "  0%|          | 0/100 [00:00<?, ?it/s]"
     ]
    },
    {
     "name": "stdout",
     "output_type": "stream",
     "text": [
      "Optimizing variational parameters...\n"
     ]
    },
    {
     "name": "stderr",
     "output_type": "stream",
     "text": [
      "100%|██████████| 100/100 [00:01<00:00, 81.27it/s]"
     ]
    },
    {
     "name": "stdout",
     "output_type": "stream",
     "text": [
      "Iteration 0 lower bound 17.62453269958496\n",
      "Iteration 25 lower bound 15.784343719482422\n",
      "Iteration 50 lower bound 15.823675155639648\n",
      "Iteration 75 lower bound 15.860444068908691\n"
     ]
    },
    {
     "name": "stderr",
     "output_type": "stream",
     "text": [
      "\n"
     ]
    },
    {
     "data": {
      "image/png": "[encoded data removed]",
      "text/plain": [
       "<Figure size 576x576 with 1 Axes>"
      ]
     },
     "metadata": {},
     "output_type": "display_data"
    },
    {
     "data": {
      "text/plain": [
       "<Figure size 432x288 with 0 Axes>"
      ]
     },
     "metadata": {},
     "output_type": "display_data"
    }
   ],
   "source": [
    "@jit\n",
    "def update(i, opt_state):\n",
    "    params = get_params(opt_state)\n",
    "    gradient = grad(objective)(params, i)\n",
    "    return opt_update(i, gradient, opt_state)\n",
    "\n",
    "# Main loop.\n",
    "print(\"Optimizing variational parameters...\")\n",
    "for t in trange(0, n_iters):\n",
    "    opt_state = update(t, opt_state)\n",
    "    params = get_params(opt_state)\n",
    "    callback(params, t)\n",
    "\n",
    "def approx_posterior_2d(z1, z2):\n",
    "    mean, logstd = params\n",
    "    return np.exp(diag_gaussian_logpdf(np.array([z1, z2]), mean, logstd))\n",
    "\n",
    "approx_posterior_2d_batched = vmap(approx_posterior_2d, in_axes=(0, 0))\n",
    "\n",
    "plot_2d_fun(posterior_beat_each_other_10_times, \"Player A Skill\", \"Player B Skill\",\n",
    "            f2=approx_posterior_2d_batched)\n"
   ]
  },
  {
   "cell_type": "markdown",
   "metadata": {},
   "source": [
    "Write one or two sentences describing the joint settings of skills that are plausible under the true posterior, but which are not plausible under the approximate posterior.\n",
    "\n",
    "**Aswer:**\n",
    "\n",
    "The settings where both players have high and close to equal skill as well as where both players have low and close to equal skill are plausible under the true posterior but not plausible under the approximate posterior. "
   ]
  },
  {
   "cell_type": "markdown",
   "metadata": {},
   "source": [
    "Finally, answer with one or two sentences:  Would changing the variational approximate posterior from a fully-factorized (diagonal covariance) Gaussian to a non-factorized (fully parameterized covariance) Gaussian make a better approximation in this instance?\n",
    "\n",
    "**Answer**\n",
    "\n",
    "Yes, having a fully parametrized covariance structure would bring correlation to the approximate posterior distribution. In this case of high correlation (each player won the same amount of games) it would increase the likelihood of observing points around the identity line, hence, to approximate the elipsoid shape of the true posterior."
   ]
  },
  {
   "cell_type": "markdown",
   "metadata": {
    "id": "rrCmtd_b51Jf"
   },
   "source": [
    "## 1.3 [25pts] Approximate inference conditioned on real data\n",
    "\n",
    "The dataset from $\\texttt{tennis_data.mat}$ contains data on 1801 tennis games amongst 107 players:\n",
    " - W is a 107 by 1 matrix, whose $i$’th entry is the name of player $i$.\n",
    " - G is a 1801 by 2 matrix of game outcomes (actually tennis matches), one row per game.\n",
    "\n",
    "The first column contains the indices of the players who won.\n",
    "The second column contains the indices of the player who lost.\n",
    "\n",
    "\n",
    "\n"
   ]
  },
  {
   "cell_type": "code",
   "execution_count": 116,
   "metadata": {
    "colab": {
     "base_uri": "https://localhost:8080/"
    },
    "id": "9Dbf_GOZ7ejb",
    "outputId": "e4f36c23-ac6c-488a-e353-4af4025b28cc"
   },
   "outputs": [
    {
     "name": "stdout",
     "output_type": "stream",
     "text": [
      "[0 1]\n",
      "[array(['Rafael-Nadal'], dtype='<U12')]\n"
     ]
    }
   ],
   "source": [
    "wget.download(\"https://probmlcourse.github.io/csc412/assignments/assignment_2/tennis_data.mat\")\n",
    "data = scipy.io.loadmat('tennis_data.mat')\n",
    "\n",
    "games = data['G'] - 1 # A list of pairs of player numbers, representing game outcomes. (shape (1081, 2))\n",
    "names = data['W']     # A list of names of players, corresponding to the player numbers. (shape (107, 1))\n",
    "\n",
    "print(games[0,:])\n",
    "print(names[0])"
   ]
  },
  {
   "cell_type": "markdown",
   "metadata": {
    "id": "dkYB8hS07fOW"
   },
   "source": [
    "\n",
    "\n",
    "**a) [0pt]** Assuming all game outcomes are i.i.d. conditioned on all players' skills, the function $\\texttt{log_games_likelihood}$ takes a batch of player skills $\\texttt{zs}$ and a collection of observed games $\\texttt{games}$ and gives the total log-likelihood for all those observations given all the skills.\n"
   ]
  },
  {
   "cell_type": "code",
   "execution_count": 117,
   "metadata": {
    "id": "pkW93RBf7pru"
   },
   "outputs": [],
   "source": [
    "def log_games_likelihood(zs, games):\n",
    "    # matches is an array of size (num_games x 2)\n",
    "    # zs is an array of size (num_players, num_samples)\n",
    "\n",
    "    winning_player_ixs = games[:,0]\n",
    "    losing_player_ixs = games[:,1]\n",
    "\n",
    "    winning_player_skills = zs[winning_player_ixs] \n",
    "    losing_player_skills = zs[losing_player_ixs] \n",
    "    log_likelihoods = logp_a_beats_b(winning_player_skills, losing_player_skills) \n",
    "    return np.sum(log_likelihoods)"
   ]
  },
  {
   "cell_type": "code",
   "execution_count": 118,
   "metadata": {
    "id": "uaPEulQoAndL"
   },
   "outputs": [],
   "source": [
    "def log_joint_probability(zs):\n",
    "    return log_joint_prior(zs) + log_games_likelihood(zs, games)"
   ]
  },
  {
   "cell_type": "markdown",
   "metadata": {
    "id": "aUWILTA18BRn"
   },
   "source": [
    "**b) [4pt]** Write a new objective function like the one from the previous question. \n",
    "\n",
    "Below, we initialize a variational distribution and fit it to the joint distribution with all the observed tennis games from the dataset. Report the final negative ELBO estimate after optimization."
   ]
  },
  {
   "cell_type": "code",
   "execution_count": 119,
   "metadata": {
    "id": "qsCQUJCFd2Eb"
   },
   "outputs": [],
   "source": [
    "# Hyperparameters\n",
    "num_players = 107\n",
    "n_iters = 500\n",
    "stepsize = 0.0001\n",
    "num_samples_per_iter = 150\n",
    "key = PRNGKey(0)\n",
    "\n",
    "def objective(params, t):\n",
    "    rng = random.PRNGKey(t)\n",
    "    return -1*batch_elbo(log_joint_probability, rng, params, num_samples_per_iter)# TODO"
   ]
  },
  {
   "cell_type": "markdown",
   "metadata": {
    "id": "O3ep43C5d_CT"
   },
   "source": [
    "**c) [1pts]** Optimize, and report the final loss. "
   ]
  },
  {
   "cell_type": "code",
   "execution_count": 120,
   "metadata": {
    "id": "ock35XuW8EK8"
   },
   "outputs": [
    {
     "name": "stderr",
     "output_type": "stream",
     "text": [
      "  0%|          | 0/500 [00:00<?, ?it/s]"
     ]
    },
    {
     "name": "stdout",
     "output_type": "stream",
     "text": [
      "Optimizing variational parameters...\n"
     ]
    },
    {
     "name": "stderr",
     "output_type": "stream",
     "text": [
      "  7%|▋         | 33/500 [00:01<09:05,  1.17s/it]"
     ]
    },
    {
     "name": "stdout",
     "output_type": "stream",
     "text": [
      "Iteration 0 lower bound 1186.4822998046875\n",
      "Iteration 25 lower bound 1172.82373046875\n",
      "Iteration 50 lower bound 1146.5382080078125\n"
     ]
    },
    {
     "name": "stderr",
     "output_type": "stream",
     "text": [
      " 25%|██▌       | 126/500 [00:02<02:30,  2.48it/s]"
     ]
    },
    {
     "name": "stdout",
     "output_type": "stream",
     "text": [
      "Iteration 75 lower bound 1144.3675537109375\n",
      "Iteration 100 lower bound 1144.5655517578125\n",
      "Iteration 125 lower bound 1144.3048095703125\n"
     ]
    },
    {
     "name": "stderr",
     "output_type": "stream",
     "text": [
      " 38%|███▊      | 188/500 [00:02<01:02,  5.02it/s]"
     ]
    },
    {
     "name": "stdout",
     "output_type": "stream",
     "text": [
      "Iteration 150 lower bound 1144.0535888671875\n",
      "Iteration 175 lower bound 1144.306884765625\n",
      "Iteration 200 lower bound 1144.236328125\n"
     ]
    },
    {
     "name": "stderr",
     "output_type": "stream",
     "text": [
      " 55%|█████▌    | 277/500 [00:02<00:15, 14.15it/s]"
     ]
    },
    {
     "name": "stdout",
     "output_type": "stream",
     "text": [
      "Iteration 225 lower bound 1144.291748046875\n",
      "Iteration 250 lower bound 1143.934814453125\n",
      "Iteration 275 lower bound 1144.21728515625\n"
     ]
    },
    {
     "name": "stderr",
     "output_type": "stream",
     "text": [
      " 68%|██████▊   | 338/500 [00:02<00:05, 27.54it/s]"
     ]
    },
    {
     "name": "stdout",
     "output_type": "stream",
     "text": [
      "Iteration 300 lower bound 1144.195068359375\n",
      "Iteration 325 lower bound 1144.046875\n",
      "Iteration 350 lower bound 1144.3035888671875\n"
     ]
    },
    {
     "name": "stderr",
     "output_type": "stream",
     "text": [
      " 86%|████████▌ | 430/500 [00:03<00:01, 67.48it/s]"
     ]
    },
    {
     "name": "stdout",
     "output_type": "stream",
     "text": [
      "Iteration 375 lower bound 1144.3499755859375\n",
      "Iteration 400 lower bound 1144.807861328125\n",
      "Iteration 425 lower bound 1144.3662109375\n"
     ]
    },
    {
     "name": "stderr",
     "output_type": "stream",
     "text": [
      "100%|██████████| 500/500 [00:03<00:00, 149.02it/s]"
     ]
    },
    {
     "name": "stdout",
     "output_type": "stream",
     "text": [
      "Iteration 450 lower bound 1143.9383544921875\n",
      "Iteration 475 lower bound 1144.51611328125\n"
     ]
    },
    {
     "name": "stderr",
     "output_type": "stream",
     "text": [
      "\n"
     ]
    }
   ],
   "source": [
    "# Set up optimizer.\n",
    "init_mean = np.zeros(num_players)\n",
    "init_std  = np.zeros(num_players)\n",
    "init_params = (init_mean, init_std)\n",
    "opt_init, opt_update, get_params = optimizers.momentum(step_size=0.1, mass=0.9)\n",
    "opt_state = opt_init(init_params)\n",
    "\n",
    "@jit\n",
    "def update(i, opt_state):\n",
    "    params = get_params(opt_state)\n",
    "    gradient = grad(objective)(params, i)\n",
    "    return opt_update(i, gradient, opt_state)\n",
    "\n",
    "# Main loop.\n",
    "print(\"Optimizing variational parameters...\")\n",
    "for t in trange(0, n_iters):\n",
    "    opt_state = update(t, opt_state)\n",
    "    params = get_params(opt_state)\n",
    "    callback(params, t)\n"
   ]
  },
  {
   "cell_type": "markdown",
   "metadata": {
    "id": "y6YluZ2B8Qmr"
   },
   "source": [
    "**d) [1pt]** Plot the approximate mean and variance of all players, sorted by skill."
   ]
  },
  {
   "cell_type": "code",
   "execution_count": 121,
   "metadata": {
    "id": "sEZtYBeH8TOO"
   },
   "outputs": [
    {
     "data": {
      "text/plain": [
       "<ErrorbarContainer object of 3 artists>"
      ]
     },
     "execution_count": 121,
     "metadata": {},
     "output_type": "execute_result"
    },
    {
     "data": {
      "image/png": "[encoded data removed]",
      "text/plain": [
       "<Figure size 432x288 with 1 Axes>"
      ]
     },
     "metadata": {
      "needs_background": "light"
     },
     "output_type": "display_data"
    }
   ],
   "source": [
    "mean_skills, logstd_skills = params # TODO.  Hint: You don't need to do simple Monte Carlo here.\n",
    "order = np.argsort(mean_skills)\n",
    "\n",
    "plt.xlabel(\"Player Rank\")\n",
    "plt.ylabel(\"Player Skill\")\n",
    "plt.errorbar(range(107), mean_skills[order], logstd_skills[order])"
   ]
  },
  {
   "cell_type": "code",
   "execution_count": 122,
   "metadata": {},
   "outputs": [
    {
     "data": {
      "text/plain": [
       "DeviceArray([ 74, 104,  96,  51,  88,  97,  85,  66,  58, 101,  53,  67,\n",
       "              80,  87,  38,  84,  82,  94,  93,  77, 106,  72,  91,  55,\n",
       "             102,  43,  50,  36,  18,   6,  73,  70,  90, 103,  95,  56,\n",
       "              27,  34, 105,  49,  89,  98,  60,  83,  48,  59,  30,  81,\n",
       "              92,  21,  78,  54,  13,  76,  75,  86, 100,  63,  71,  61,\n",
       "              40,  45,  39,   9,  65,  17,  26,  52,  99,  64,  68,  69,\n",
       "              35,   1,  37,  19,  62,  57,  16,  32,  41,  22,  79,  20,\n",
       "              31,  42,   8,   7,  47,  12,  44,  24,  46,   3,  25,  28,\n",
       "              14,  11,  33,   2,   5,  23,  29,  10,   0,   4,  15],            dtype=int32)"
      ]
     },
     "execution_count": 122,
     "metadata": {},
     "output_type": "execute_result"
    }
   ],
   "source": [
    "order"
   ]
  },
  {
   "cell_type": "markdown",
   "metadata": {
    "id": "EjWom7_Z8VCY"
   },
   "source": [
    "**e) [2pts]** List the names of the 10 players with the highest mean skill under the variational model.\n"
   ]
  },
  {
   "cell_type": "code",
   "execution_count": 123,
   "metadata": {
    "id": "4LCPM5Bp8YiK"
   },
   "outputs": [
    {
     "name": "stdout",
     "output_type": "stream",
     "text": [
      "['Novak-Djokovic']\n",
      "['Roger-Federer']\n",
      "['Rafael-Nadal']\n",
      "['Andy-Murray']\n",
      "['David-Ferrer']\n",
      "['Robin-Soderling']\n",
      "['Jo-Wilfried-Tsonga']\n",
      "['Juan-Martin-Del-Potro']\n",
      "['Tomas-Berdych']\n",
      "['Richard-Gasquet']\n"
     ]
    }
   ],
   "source": [
    "for i in range(1,11):\n",
    "    print(names[order[-i]][0])\n",
    "    \n",
    "    # TODO"
   ]
  },
  {
   "cell_type": "markdown",
   "metadata": {
    "id": "sEj6LkYA8ncH"
   },
   "source": [
    "**f) [1pt]** Plot the joint posterior over the skills of Roger Federer and Rafael Nadal."
   ]
  },
  {
   "cell_type": "code",
   "execution_count": 124,
   "metadata": {},
   "outputs": [
    {
     "data": {
      "text/plain": [
       "(100, 107)"
      ]
     },
     "execution_count": 124,
     "metadata": {},
     "output_type": "execute_result"
    }
   ],
   "source": [
    "samples.shape"
   ]
  },
  {
   "cell_type": "code",
   "execution_count": 125,
   "metadata": {
    "id": "U6zI2sCB8qFO"
   },
   "outputs": [
    {
     "name": "stdout",
     "output_type": "stream",
     "text": [
      "[array(['Rafael-Nadal'], dtype='<U12')]\n",
      "[array(['Roger-Federer'], dtype='<U13')]\n"
     ]
    },
    {
     "data": {
      "text/plain": [
       "<matplotlib.collections.PathCollection at 0x7fc140738e20>"
      ]
     },
     "execution_count": 125,
     "metadata": {},
     "output_type": "execute_result"
    },
    {
     "data": {
      "image/png": "[encoded data removed]",
      "text/plain": [
       "<Figure size 576x576 with 1 Axes>"
      ]
     },
     "metadata": {},
     "output_type": "display_data"
    }
   ],
   "source": [
    "nadal_ix = 0\n",
    "federer_ix = 4\n",
    "print(names[nadal_ix])\n",
    "print(names[federer_ix])\n",
    "\n",
    "fig = plt.figure(figsize=(8,8), facecolor='white')\n",
    "\n",
    "# Label each with \"<player> Skill\"\n",
    "plt.xlabel(\"Roger Federer Skill\") \n",
    "plt.ylabel(\"Rafael Nadal Skill\") \n",
    "\n",
    "plt.plot([3, -3], [3, -3], 'b--') # Line of equal skill\n",
    "\n",
    "rngs = random.split(random.PRNGKey(t), 100)\n",
    "samples = vmap(diag_gaussian_sample, in_axes=(0, None, None))(rngs, *params)\n",
    "\n",
    "# TODO:  Hint:  Use plt.scatter()\n",
    "plt.scatter(x=samples[:, federer_ix], y=samples[:, nadal_ix])\n"
   ]
  },
  {
   "cell_type": "markdown",
   "metadata": {
    "id": "rUXcsAYdDnor"
   },
   "source": [
    "**g) [8pts]** Derive the exact probability under a factorized Gaussian over two players’ skills that one has higher skill than the other, as a function of the two means and variances over their skills. Express your answer in terms of the cumulative distribution function of a one-dimensional Gaussian random variable.\n",
    "\n",
    "- Hint 1: Use a linear change of variables $y_A, y_B = z_A − z_B , z_B$. What does the line of equal skill look like after this transformation?\n",
    "- Hint 2: If $X \\sim \\mathcal N (\\mu, \\Sigma)$, then $AX \\sim \\mathcal N (A\\mu, A\\Sigma A^T)$ where $A$ is a linear transformation.\n",
    "- Hint 3: Marginalization in Gaussians is easy: if $X \\sim \\mathcal N (\\mu, \\Sigma)$, then the $i$th element of $X$ has a\n",
    "marginal distribution $X_i \\sim \\mathcal N (\\mu_i , \\Sigma_{ii})$."
   ]
  },
  {
   "cell_type": "markdown",
   "metadata": {
    "id": "SgA440jEWsZJ"
   },
   "source": [
    "Your answer here, or separately, whichever you prefer."
   ]
  },
  {
   "cell_type": "markdown",
   "metadata": {
    "id": "GO3k7rfI8sWg"
   },
   "source": [
    "**h) [2pts]** Compute the probability under your approximate posterior that Roger Federer has higher skill than Rafael Nadal. Compute this quantity exactly using the formula you just derived above, and also estimate it using simple Monte Carlo with 10000 examples.\n",
    "\n",
    "Hint:  You might want to use `jax.scipy.stats.norm.cdf` for the exact formula."
   ]
  },
  {
   "cell_type": "code",
   "execution_count": 126,
   "metadata": {},
   "outputs": [],
   "source": [
    "?jax.scipy.stats.norm.cdf"
   ]
  },
  {
   "cell_type": "code",
   "execution_count": 127,
   "metadata": {
    "id": "oqXgDi-T-W7o"
   },
   "outputs": [
    {
     "name": "stdout",
     "output_type": "stream",
     "text": [
      "The probability that Federer is better than Nadal using the formula derived above is 71.17%\n"
     ]
    }
   ],
   "source": [
    "# TODO\n",
    "mean_diff = mean_skills[federer_ix] - mean_skills[nadal_ix]\n",
    "sd_diff = np.sqrt(np.exp(logstd_skills[federer_ix])**2 + np.exp(logstd_skills[nadal_ix])**2)\n",
    "prob_federer_better_diff = round(1 - jax.scipy.stats.norm.cdf(x=0, loc=mean_diff, scale=sd_diff), 4)\n",
    "\n",
    "print('The probability that Federer is better than Nadal using the formula derived above is ' + \n",
    "      str(prob_federer_better_diff*100) + '%')"
   ]
  },
  {
   "cell_type": "code",
   "execution_count": 128,
   "metadata": {},
   "outputs": [
    {
     "name": "stdout",
     "output_type": "stream",
     "text": [
      "The probability that Federer is better than Nadal using Monte Carlo with 10,000 samples is 70.3%\n"
     ]
    }
   ],
   "source": [
    "federer_mc = diag_gaussian_sample(PRNGKey(51), np.ones(1000)*mean_skills[federer_ix], np.ones(1000)*logstd_skills[federer_ix])\n",
    "nadal_mc = diag_gaussian_sample(PRNGKey(52), np.ones(1000)*mean_skills[nadal_ix], np.ones(1000)*logstd_skills[nadal_ix])\n",
    "prob_federer_better_mc = np.sum(federer_mc > nadal_mc)/1000\n",
    "\n",
    "print('The probability that Federer is better than Nadal using Monte Carlo with 10,000 samples is ' + \n",
    "      str(prob_federer_better_mc*100) + '%')"
   ]
  },
  {
   "cell_type": "markdown",
   "metadata": {
    "id": "olpPTnm3-YdN"
   },
   "source": [
    "**i) [2pts]** Compute the probability that Roger Federer is better than the player with the lowest mean skill. Compute this quantity exactly, and then estimate it using simple Monte Carlo with 10000 examples.\n"
   ]
  },
  {
   "cell_type": "code",
   "execution_count": 129,
   "metadata": {
    "id": "PNLfQCDdbZ7d"
   },
   "outputs": [
    {
     "name": "stdout",
     "output_type": "stream",
     "text": [
      "The probability that Federer is better than the player with the lowest mean skill, using the formula derived above is 100.0%\n"
     ]
    }
   ],
   "source": [
    "# TODO\n",
    "worst_player_ix = order[0]\n",
    "mean_diff = mean_skills[federer_ix] - mean_skills[worst_player_ix]\n",
    "sd_diff = np.sqrt(np.exp(logstd_skills[federer_ix])**2 + np.exp(logstd_skills[worst_player_ix])**2)\n",
    "prob_federer_better_diff = round(1 - jax.scipy.stats.norm.cdf(x=0, loc=mean_diff, scale=sd_diff), 4)\n",
    "\n",
    "print('The probability that Federer is better than the player with the lowest mean skill, using the formula derived above is ' + \n",
    "      str(prob_federer_better_diff*100) + '%')"
   ]
  },
  {
   "cell_type": "code",
   "execution_count": 130,
   "metadata": {},
   "outputs": [
    {
     "name": "stdout",
     "output_type": "stream",
     "text": [
      "The probability that Federer is better than Nadal using Monte Carlo with 10,000 samples is 100.0%\n"
     ]
    }
   ],
   "source": [
    "federer_mc = diag_gaussian_sample(PRNGKey(51), np.ones(1000)*mean_skills[federer_ix], np.ones(1000)*logstd_skills[federer_ix])\n",
    "worstp_mc = diag_gaussian_sample(PRNGKey(52), np.ones(1000)*mean_skills[worst_player_ix], np.ones(1000)*logstd_skills[worst_player_ix])\n",
    "prob_federer_better_mc = np.sum(federer_mc > worstp_mc)/1000\n",
    "\n",
    "print('The probability that Federer is better than Nadal using Monte Carlo with 10,000 samples is ' + \n",
    "      str(prob_federer_better_diff*100) + '%')"
   ]
  },
  {
   "cell_type": "markdown",
   "metadata": {
    "id": "kjslZo7WUH2-"
   },
   "source": [
    "**j) [2 pts]** Imagine that we knew ahead of time that we were examining the skills of top tennis players, and so changed our prior on all players to Normal(10, 1) and re-ran our approximate inference from scratch. Would that change the answer of either of the previous 2 questions, in expectation?"
   ]
  },
  {
   "cell_type": "markdown",
   "metadata": {
    "id": "W37pO-PDNjKc"
   },
   "source": [
    "Your answer here."
   ]
  },
  {
   "cell_type": "markdown",
   "metadata": {},
   "source": [
    "No it wouldn't change the probabilities calculated above, as long as the change is applied to all the players. it would only change the scale of the skill scores. "
   ]
  },
  {
   "cell_type": "markdown",
   "metadata": {
    "id": "cNJ5WuyQKPPM"
   },
   "source": [
    "**k) [2 pts]** Based on all the plots and results in this assignment and HW2, which approximate inference method do you suspect is producing a better overall approximation to the true posterior over all skills conditioned on all games?  Give a short explanation."
   ]
  },
  {
   "cell_type": "markdown",
   "metadata": {
    "id": "mtmXbA3OKSoM"
   },
   "source": [
    "Your answer here.\n",
    "\n",
    "The model in HW2 is better because in reality the probability that Roger Federer is better than Rafa Nadal is definitely closer to 50% than to 70%!"
   ]
  },
  {
   "cell_type": "code",
   "execution_count": null,
   "metadata": {},
   "outputs": [],
   "source": []
  }
 ],
 "metadata": {
  "colab": {
   "collapsed_sections": [],
   "name": "STA414 Homework 3: SVI",
   "provenance": []
  },
  "kernelspec": {
   "display_name": "Python 3 (ipykernel)",
   "language": "python",
   "name": "python3"
  },
  "language_info": {
   "codemirror_mode": {
    "name": "ipython",
    "version": 3
   },
   "file_extension": ".py",
   "mimetype": "text/x-python",
   "name": "python",
   "nbconvert_exporter": "python",
   "pygments_lexer": "ipython3",
   "version": "3.9.7"
  }
 },
 "nbformat": 4,
 "nbformat_minor": 1
}
