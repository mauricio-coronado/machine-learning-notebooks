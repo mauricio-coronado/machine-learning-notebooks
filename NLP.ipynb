{
 "cells": [
  {
   "cell_type": "markdown",
   "metadata": {
    "id": "q84Rhsk6FOWx"
   },
   "source": [
    "# Question 2: Natural Language Processing\n",
    "\n",
    "### Total Points: 46\n",
    "\n",
    "### Background:\n",
    "In this question you will fit a set of models with the goal of predicting which text messages (SMS) are spam and which are not. \n",
    "\n",
    "You will be experimenting with a variety of different embedding algorithms followed by Logistic Regression."
   ]
  },
  {
   "cell_type": "markdown",
   "metadata": {
    "id": "9mbhj24iFMEJ"
   },
   "source": [
    "## Data Loading, Exploratory Data Analysis and Vocabulary Creation:\n"
   ]
  },
  {
   "cell_type": "code",
   "execution_count": 2,
   "metadata": {
    "id": "zDe_6kaRCfWs"
   },
   "outputs": [],
   "source": [
    "from datasets import load_dataset\n",
    "from sklearn.model_selection import train_test_split\n",
    "from sklearn.feature_extraction.text import CountVectorizer, TfidfVectorizer, TfidfTransformer\n",
    "from typing import List\n",
    "import numpy as np \n",
    "import pandas as pd\n",
    "from tqdm import tqdm\n",
    "import torch\n",
    "np.random.seed(42)"
   ]
  },
  {
   "cell_type": "code",
   "execution_count": 3,
   "metadata": {
    "id": "Z-YrzSxEC2Hq"
   },
   "outputs": [
    {
     "name": "stderr",
     "output_type": "stream",
     "text": [
      "Reusing dataset sms_spam (C:\\Users\\Dell\\.cache\\huggingface\\datasets\\sms_spam\\plain_text\\1.0.0\\53f051d3b5f62d99d61792c91acefe4f1577ad3e4c216fb0ad39e30b9f20019c)\n"
     ]
    },
    {
     "data": {
      "application/vnd.jupyter.widget-view+json": {
       "model_id": "b40d1675a28245c5aee1038f0748f75a",
       "version_major": 2,
       "version_minor": 0
      },
      "text/plain": [
       "  0%|          | 0/1 [00:00<?, ?it/s]"
      ]
     },
     "metadata": {},
     "output_type": "display_data"
    }
   ],
   "source": [
    "dataset = load_dataset(\"sms_spam\")\n",
    "texts = [x[\"sms\"] for x in dataset[\"train\"]]\n",
    "labels = [x[\"label\"] for x in dataset[\"train\"]]"
   ]
  },
  {
   "cell_type": "code",
   "execution_count": 4,
   "metadata": {
    "id": "X523_TcvC_4S"
   },
   "outputs": [],
   "source": [
    "X_train, X_m, y_train, y_m = train_test_split(texts, labels, test_size=0.3, random_state=0)\n",
    "X_val, X_test, y_val, y_test = train_test_split(X_m, y_m, test_size = 0.5, random_state=0)"
   ]
  },
  {
   "cell_type": "code",
   "execution_count": 5,
   "metadata": {
    "id": "4-MHbxEmE2Hr"
   },
   "outputs": [],
   "source": [
    "def tokenize(x:str) -> List[str]:\n",
    "  \"\"\"\n",
    "  Takes string as an input and returns a list of tokens. This just splits the string x on whitespace\n",
    "  \"\"\"\n",
    "  return x.lower().split(\" \")"
   ]
  },
  {
   "cell_type": "markdown",
   "metadata": {
    "id": "MWyKRONCVFYD"
   },
   "source": [
    "## [ 5 points ] Q2.a: Determine / Answer the following: \n",
    "\n",
    "*   How many datapoints are in the training set?\n",
    "\n",
    "\n",
    "\n",
    "\n"
   ]
  },
  {
   "cell_type": "code",
   "execution_count": 6,
   "metadata": {
    "scrolled": true
   },
   "outputs": [
    {
     "name": "stdout",
     "output_type": "stream",
     "text": [
      "The number of datapoints in the training set is 3901\n"
     ]
    }
   ],
   "source": [
    "datapoints = len(X_train)\n",
    "print(f'The number of datapoints in the training set is ' + str(datapoints))"
   ]
  },
  {
   "cell_type": "markdown",
   "metadata": {},
   "source": [
    "*   How many total tokens are there in the data?"
   ]
  },
  {
   "cell_type": "code",
   "execution_count": 7,
   "metadata": {
    "scrolled": true
   },
   "outputs": [
    {
     "name": "stdout",
     "output_type": "stream",
     "text": [
      "The number of datapoints in the training set is 87535\n"
     ]
    }
   ],
   "source": [
    "total_tokens = sum([len(tokens) for tokens in [tokenize(text) for text in texts]])\n",
    "print(f'The number of datapoints in the training set is ' + str(total_tokens))"
   ]
  },
  {
   "cell_type": "markdown",
   "metadata": {},
   "source": [
    "*   What % of training examples are spam?"
   ]
  },
  {
   "cell_type": "code",
   "execution_count": 9,
   "metadata": {},
   "outputs": [
    {
     "name": "stdout",
     "output_type": "stream",
     "text": [
      "The number of datapoints in the training set is 12.950000000000001%\n"
     ]
    }
   ],
   "source": [
    "spam_training = round(sum(y_train)/len(y_train), 4)*100\n",
    "print(f'The number of datapoints in the training set is ' + str(spam_training) + '%')"
   ]
  },
  {
   "cell_type": "markdown",
   "metadata": {},
   "source": [
    "*   What would the accuracy be if for every datapoint we predict it is spam? (explain)"
   ]
  },
  {
   "cell_type": "code",
   "execution_count": 13,
   "metadata": {
    "scrolled": true
   },
   "outputs": [],
   "source": [
    "test_spam = sum(y_test)/len(y_test)\n",
    "accuracy = round(test_spam, 4)"
   ]
  },
  {
   "cell_type": "code",
   "execution_count": 14,
   "metadata": {},
   "outputs": [
    {
     "name": "stdout",
     "output_type": "stream",
     "text": [
      "If we were to predict spam for every datapoint, then the accuracy of our model would be 16.37% because that`s the percentage of spam datapoints in the test dataset.\n"
     ]
    }
   ],
   "source": [
    "print('If we were to predict spam for every datapoint, then the accuracy of our model would be ' + str(accuracy*100) +\n",
    "      '% because that`s the percentage of spam datapoints in the test dataset.')"
   ]
  },
  {
   "cell_type": "markdown",
   "metadata": {
    "id": "nS6ufPCtGwQp"
   },
   "source": [
    "## [4 points ] Q2.b Vocabulary and Frequencies  "
   ]
  },
  {
   "cell_type": "markdown",
   "metadata": {
    "id": "jyKQsSieGzDk"
   },
   "source": [
    "Implement the functions `create_count_dict`, and `create_vocab` below that take as input a dataset (list of untokenized strings - one per datapoint), and an integer representing the desired vocabulary size, and returns the vocabulary as a `dict` whose keys are tokens and whose values are indices."
   ]
  },
  {
   "cell_type": "code",
   "execution_count": 15,
   "metadata": {
    "id": "ACy4z8-oGSEp"
   },
   "outputs": [],
   "source": [
    "def create_count_dict(dataset:List[str]) -> dict:\n",
    "    \"\"\"\n",
    "    Given a dataset, returns a dictionary of token counts with tokens being keys, and counts being values\n",
    "    \"\"\"\n",
    "    count_dict = {}\n",
    "    \n",
    "    # TODO\n",
    "    tokens = []\n",
    "    for text in dataset:\n",
    "        tokens = tokens + tokenize(text)\n",
    "\n",
    "    for token in set(tokens):\n",
    "        count_dict[token] = tokens.count(token)\n",
    "\n",
    "    return count_dict\n",
    "\n",
    "def create_vocab(dataset:List[str], vocab_size:int) -> dict:\n",
    "    \"\"\"\n",
    "    Given a dataset, returns a dictionary with tokens as keys and indices as values.\n",
    "\n",
    "    {\"token_1\": 1, \"token_2\": 2, ...}\n",
    "    \"\"\"\n",
    "\n",
    "    # TODO: \n",
    "    # 1. Determine the count of all words\n",
    "    count_dict = create_count_dict(dataset)\n",
    "    \n",
    "    # 2. Keep the top <vocab_size> tokens\n",
    "    top_tokens = sorted(count_dict.items(), key=lambda x: x[1], reverse=True)[:vocab_size]\n",
    "    \n",
    "    # 3. Create the token to index dict and fill it with just the top tokens\n",
    "    vocab_to_index_dict = {}\n",
    "    \n",
    "    i = 0\n",
    "    for token, counts in top_tokens:\n",
    "        vocab_to_index_dict[token] = i\n",
    "        i += 1\n",
    "\n",
    "    return vocab_to_index_dict"
   ]
  },
  {
   "cell_type": "code",
   "execution_count": 16,
   "metadata": {
    "id": "ZWgGXqOtnXaU"
   },
   "outputs": [],
   "source": [
    "# Helper test to at least ensure the constructed vocab is the right size\n",
    "for i in np.random.randint(low = 100, high = 500, size = 5):\n",
    "    assert(len(create_vocab(X_train, vocab_size = i)) == i)"
   ]
  },
  {
   "cell_type": "code",
   "execution_count": 17,
   "metadata": {
    "id": "CawjqIMXd3X3"
   },
   "outputs": [],
   "source": [
    "# Create and save your vocab\n",
    "student_created_count_dict = create_count_dict(X_train)\n",
    "student_created_vocab = create_vocab(X_train, vocab_size = 500)"
   ]
  },
  {
   "cell_type": "markdown",
   "metadata": {
    "id": "Mx3Q8FkdrDpJ"
   },
   "source": [
    "## [4 points] Q2.c Token Counts"
   ]
  },
  {
   "cell_type": "markdown",
   "metadata": {
    "id": "uns15d63rJS1"
   },
   "source": [
    "### Q2.c.a  Is the distribution of token counts below a relatively heavy-tailed distribution?  Would using only the top 30 tokens be sufficient for most applications?"
   ]
  },
  {
   "cell_type": "markdown",
   "metadata": {},
   "source": [
    "The distribution of token counts has a heavy (slowly decaying) tail, using 30 words probably won't be sufficient for most applications, especially because most of the top tokens are stopwords"
   ]
  },
  {
   "cell_type": "code",
   "execution_count": 18,
   "metadata": {
    "id": "9F3Sc2vtrBCa"
   },
   "outputs": [],
   "source": [
    "def visualize_top_token_distribution(count_dict, num_tokens_to_plot):\n",
    "    \"\"\"\n",
    "    Display a barplot of counts of top <num_tokens_to_plot> tokens in the <count_dict>\n",
    "    \"\"\"\n",
    "    df = pd.DataFrame(data={\"token\": [key for key, _ in count_dict.items()], \"count\": [value for _, value in count_dict.items()]}).sort_values(\"count\", ascending=False)\n",
    "    df[:num_tokens_to_plot].plot(x = \"token\", y = \"count\", kind=\"bar\")"
   ]
  },
  {
   "cell_type": "code",
   "execution_count": 19,
   "metadata": {
    "id": "FFGiXJuQrfHw"
   },
   "outputs": [
    {
     "data": {
      "image/png": "[encoded data removed]",
      "text/plain": [
       "<Figure size 432x288 with 1 Axes>"
      ]
     },
     "metadata": {
      "needs_background": "light"
     },
     "output_type": "display_data"
    }
   ],
   "source": [
    "visualize_top_token_distribution(student_created_count_dict, 10)"
   ]
  },
  {
   "cell_type": "code",
   "execution_count": 20,
   "metadata": {
    "id": "Bzx51_xpskwS"
   },
   "outputs": [
    {
     "data": {
      "image/png": "[encoded data removed]",
      "text/plain": [
       "<Figure size 432x288 with 1 Axes>"
      ]
     },
     "metadata": {
      "needs_background": "light"
     },
     "output_type": "display_data"
    }
   ],
   "source": [
    "visualize_top_token_distribution(student_created_count_dict, 30)"
   ]
  },
  {
   "cell_type": "code",
   "execution_count": 21,
   "metadata": {
    "id": "3n6QenP-smAd"
   },
   "outputs": [
    {
     "data": {
      "image/png": "[encoded data removed]",
      "text/plain": [
       "<Figure size 432x288 with 1 Axes>"
      ]
     },
     "metadata": {
      "needs_background": "light"
     },
     "output_type": "display_data"
    }
   ],
   "source": [
    "visualize_top_token_distribution(student_created_count_dict, 100)"
   ]
  },
  {
   "cell_type": "markdown",
   "metadata": {
    "id": "S4woSRLSt6bt"
   },
   "source": [
    "### Q2.c.b [2 points] Take a look at the top 10 tokens in the plot above, do you think the embeddings based on those tokens will be informative for our task?\n"
   ]
  },
  {
   "cell_type": "markdown",
   "metadata": {
    "id": "QZCCCcILuG5N"
   },
   "source": [
    "YOUR ANSWER HERE\n",
    "\n",
    "Those words are incredibly common in any text in English (stopwords) and do not contribute to our task in terms of distinguishing between normal text and spam."
   ]
  },
  {
   "cell_type": "markdown",
   "metadata": {
    "id": "Zx96W-8PtrbV"
   },
   "source": [
    "## Q2.d [ 13 points ] Vocabulary selection and Embeddings"
   ]
  },
  {
   "cell_type": "code",
   "execution_count": 22,
   "metadata": {
    "id": "vKCpZXNCH5do"
   },
   "outputs": [],
   "source": [
    "# NOTHING TO DO HERE, JUST SOME CONVENIENCE FUNCTIONS FOR THE FUTURE\n",
    "def index_to_token(index:int, vocabulary:dict) -> str:\n",
    "    \"\"\"\n",
    "    Given an index in the vocabulary, and the vocabulary dict with tokens as keys, and indices as values, returns the token that maps to the given index\n",
    "    \"\"\"\n",
    "    if index > len(vocabulary):\n",
    "        raise ValueError(f\"There is no index {index} in the vocabulary\")\n",
    "    inv_vocabulary = {v: k for k, v in vocabulary.items()}\n",
    "    return inv_vocabulary[index]\n",
    "\n",
    "def token_to_index(token:str, vocabulary:dict) -> int:\n",
    "    \"\"\"\n",
    "    Given a token, return the index of that token in the vocabulary\n",
    "    \"\"\"\n",
    "    index = vocabulary.get(token)\n",
    "    if index is None:\n",
    "        raise ValueError(f\"Token: {token} is not in the vocabulary\")\n",
    "    return index"
   ]
  },
  {
   "cell_type": "code",
   "execution_count": 23,
   "metadata": {
    "id": "E5GFTnNtJhgV"
   },
   "outputs": [],
   "source": [
    "## NOTHING TO DO HERE\n",
    "\n",
    "# BoW with our vocab\n",
    "vectorizer_ours = CountVectorizer(max_features=500, tokenizer=tokenize, vocabulary=student_created_vocab) # Automatic BoW embeddings using your vocab\n",
    "vectorized_data_ours = vectorizer_ours.fit_transform(X_train) # Embedded data\n",
    "\n",
    "# Bow with an auto vocab\n",
    "vectorizer_auto = CountVectorizer(max_features=500) # Automatic BoW embeddings and automatic vocab\n",
    "vectorized_data_auto = vectorizer_auto.fit_transform(X_train) # Embedded data\n",
    "VOCAB = vectorizer_auto.vocabulary_ # For convenience\n",
    "\n",
    "# binary BoW\n",
    "vectorizer_bbow = CountVectorizer(max_features=500, binary=True, vocabulary=VOCAB) # Automatic binary BoW embeddings using the automatically generated vocab above\n",
    "vectorized_data_bbow = vectorizer_bbow.fit_transform(X_train) # Embedded data\n",
    "\n",
    "# TFIDF\n",
    "tfidf_transformer = TfidfTransformer(smooth_idf=False) # TF-IDF transformer for BoW embeddings\n",
    "vectorized_data_tfidf_auto = tfidf_transformer.fit_transform(vectorized_data_auto) # Embedded data"
   ]
  },
  {
   "cell_type": "markdown",
   "metadata": {
    "id": "mQFvomo9urR3"
   },
   "source": [
    "### Q2.d.a [ 2 points ] Implement the function `vocabulary_diff` below. It should return a list of tokens that are in `vocab_1` but not in `vocab_2`."
   ]
  },
  {
   "cell_type": "code",
   "execution_count": 24,
   "metadata": {
    "id": "6-CScQ3tKGPU",
    "scrolled": true
   },
   "outputs": [
    {
     "name": "stdout",
     "output_type": "stream",
     "text": [
      "['i', 'a', 'u', '', '2', \"i'm\", '&lt;#&gt;', '4', '.', '\\n', 'r', '?', 'ü', \"i'll\", \"don't\", '...', 'n', '&', \"it's\", '&amp;', 'd', 'e', '-', 'c', '1', \"can't\", 'me.', 'you.', 'now!', 'now.', 'b', \"i've\", \"that's\", '3', \"you're\", '!', 'lor.', '?\\n', 'you,', 'sorry,', ':)\\n', \"didn't\", '*', 'u.', 'urgent!', 'day.', 'k', 'y', 'later\\n', \"he's\", 'me.\\n', 'it,', '£1000', 'you!', '5', \"how's\", 'ok.', 'v', 'lor...', 'you\\n', '+', 'it.', 'no.', ',', 'x', 'tomorrow\\n', 'lor...\\n', '£100', 'i.ll', 'it.\\n', 'lor.\\n', 'juz', 'wif', 'g', 'makes', '£500', \"we're\", 'day.\\n', 'me\\n', 'yeah,', \"there's\", \"won't\", 'saying', '.\\n', 'stay', 'home.', 'took', 'now.\\n', 'you.\\n', '&lt;decimal&gt;', 'wil', '6', 'needs']\n",
      "['pa', 'yet', 'liao', 'lt', 'gt', 'www', 'com', 'wk', '150p', '16', 'min', 'feeling', 'apply', '18', 'ah', 'plan', 'll', 'princess', 'lar', 've', 'code', '10', 'tmr', 'don', '000', 'didn', 'bus', 'kiss', 'online', 'hours', 'haha', 'amp', 'evening', 'line', 'true', 'haven', 'sir', 'month', 'problem', 'okay', 'weekend', 'leh', 'anyway', 'book', 're', 'house', '1000', 'word', 'co', 'uk', 'plz', 'afternoon', 'urgent', 'landline', 'cs', 'mail', 'baby', 'fine', 'cool', 'easy', 'rate', 'dad', 'times', 'hello', 'bored', '150ppm', 'room', 'xxx', 'aight', 'girl', 'thanx', '50', 'though', 'busy', 'else', 'orange', 'head', 'messages', 'while', 'bed', 'hour', 'comes', 'dreams', 'drive', '100', 'weekly', 'worry', 'calls', 'office', 'wife', 'mob', 'boy', 'offer']\n"
     ]
    }
   ],
   "source": [
    "# Get the differences between our vocabulary and the automatically generated one\n",
    "\n",
    "def vocabulary_diff(vocab_1:dict, vocab_2:dict) -> List[str]:\n",
    "    \"\"\"\n",
    "    Given 2 vocabularies, returns all the tokens that are present in vocab_1 but not in vocab_2\n",
    "    \"\"\"\n",
    "    vocab_diff = [token for token in vocab_1.keys() if token not in vocab_2.keys()]\n",
    "    return vocab_diff\n",
    "\n",
    "\n",
    "print(vocabulary_diff(student_created_vocab,VOCAB))\n",
    "print(vocabulary_diff(VOCAB, student_created_vocab))"
   ]
  },
  {
   "cell_type": "markdown",
   "metadata": {
    "id": "q3gDDBttvyVW"
   },
   "source": [
    "###  Q2.d.b [3 points] Based on the differences between the two vocabularies, which do you think will represent our datapoints better? Why? "
   ]
  },
  {
   "cell_type": "markdown",
   "metadata": {
    "id": "SSDcv9SYwGJj"
   },
   "source": [
    "YOUR ANSWER HERE\n",
    "\n",
    "I think that the VOCAB vocabulary that was created using automatic BoW embeddings represent the datapoints better. First, because in our vocabulary there are too many stopwords like 'i', 'a', 'i've', 'it's' which we can see above. Secondly, it looks like the autovocabulary managed to avoid tokenizing symbols and words followed by symbols like '.', '-', '+', 'it.\\n' or '&lt;decimal&gt;'"
   ]
  },
  {
   "cell_type": "code",
   "execution_count": 25,
   "metadata": {
    "id": "ZDa_SZbdN1tA"
   },
   "outputs": [],
   "source": [
    "# Some convenience constants\n",
    "DOCUMENT_COUNTS = np.bincount(vectorized_data_bbow.indices, minlength=vectorized_data_bbow.shape[1])\n",
    "NUM_DATAPOINTS = len(X_train)\n",
    "VOCAB = vectorizer_auto.vocabulary_"
   ]
  },
  {
   "cell_type": "markdown",
   "metadata": {
    "id": "BvRheDH8w7lF"
   },
   "source": [
    "### Q2.d.c [3 points] Implement the `idf` function below which returns the inverse document frequency of a given word as defined by:\n",
    "\n",
    "$$ IDF(w_j) = log(\\frac{N}{N_j}) + 1 $$\n",
    "\n",
    "where:\n",
    "\n",
    "* $N$ is the number of datapoints \n",
    "\n",
    "* $N_j$ is the number of occurences of word $w_j$ in the data"
   ]
  },
  {
   "cell_type": "code",
   "execution_count": 26,
   "metadata": {
    "id": "V-dlIRAPPzSE"
   },
   "outputs": [],
   "source": [
    "def idf(word:str, document_count:np.ndarray=DOCUMENT_COUNTS, \n",
    "        num_datapoints:int=NUM_DATAPOINTS, vocabulary:dict=VOCAB) -> float:\n",
    "    \"\"\"\n",
    "    returns the inverse document frequency of a particular word, based on the IDF definition of\n",
    "\n",
    "    IDF(w_j) = log(N / N_j) + 1\n",
    "\n",
    "    \"\"\"\n",
    "    # TODO\n",
    "    N = num_datapoints\n",
    "    N_j = document_count[token_to_index(word, vocabulary)]\n",
    "    return np.log(N/N_j) + 1\n",
    "    \n",
    "#     pass"
   ]
  },
  {
   "cell_type": "code",
   "execution_count": 27,
   "metadata": {
    "id": "7wEYAGnnQi97",
    "scrolled": true
   },
   "outputs": [
    {
     "name": "stdout",
     "output_type": "stream",
     "text": [
      "word: head\n",
      "your idf: 6.4357748654504405\n",
      "calculated idf: 6.4357748654504405\n",
      "word: ah\n",
      "your idf: 6.224465771783233\n",
      "calculated idf: 6.224465771783233\n",
      "word: customer\n",
      "your idf: 5.713640148017243\n",
      "calculated idf: 5.713640148017243\n",
      "word: dont\n",
      "your idf: 4.684020730836085\n",
      "calculated idf: 4.684020730836085\n",
      "word: where\n",
      "your idf: 4.862268962242403\n",
      "calculated idf: 4.862268962242403\n",
      "word: it\n",
      "your idf: 3.2216160304603783\n",
      "calculated idf: 3.2216160304603783\n",
      "word: po\n",
      "your idf: 6.0909343791587105\n",
      "calculated idf: 6.0909343791587105\n",
      "word: weekend\n",
      "your idf: 6.177945756148341\n",
      "calculated idf: 6.177945756148341\n",
      "word: co\n",
      "your idf: 5.60542656337701\n",
      "calculated idf: 5.60542656337701\n",
      "word: sms\n",
      "your idf: 5.685469271050547\n",
      "calculated idf: 5.685469271050547\n",
      "word: could\n",
      "your idf: 5.742627684890495\n",
      "calculated idf: 5.742627684890495\n",
      "word: service\n",
      "your idf: 5.58010875539272\n",
      "calculated idf: 5.58010875539272\n",
      "word: forgot\n",
      "your idf: 6.133493993577507\n",
      "calculated idf: 6.133493993577507\n",
      "word: easy\n",
      "your idf: 6.273255935952665\n",
      "calculated idf: 6.273255935952665\n",
      "word: first\n",
      "your idf: 5.555416142802349\n",
      "calculated idf: 5.555416142802349\n"
     ]
    }
   ],
   "source": [
    "for index in np.random.randint(0,500, size=15).tolist():\n",
    "    print(f\"word: {index_to_token(index, VOCAB)}\")\n",
    "    print(f\"your idf: {idf(index_to_token(index, VOCAB))}\")\n",
    "    print(f\"calculated idf: {tfidf_transformer.idf_[index]}\")\n",
    "    assert np.isclose(tfidf_transformer.idf_[index], idf(index_to_token(index, VOCAB)))"
   ]
  },
  {
   "cell_type": "markdown",
   "metadata": {
    "id": "RIYmBJfkxg50"
   },
   "source": [
    "### Q2.d.d [2 points] Implement a binary Bag of Words embedding function that takes in a list of token and a vocab, and returns a numpy array corresponding to the embedding vector"
   ]
  },
  {
   "cell_type": "code",
   "execution_count": 28,
   "metadata": {
    "id": "AvtjwrUyS0lT"
   },
   "outputs": [],
   "source": [
    "def binary_BoW_embedder(list_of_tokens:List[str], vocab:dict) -> np.ndarray:\n",
    "    \"\"\"\n",
    "    Creates a binary Bag of Words embedding of a datapoint represented as a list of tokens, using the vocab\n",
    "    \"\"\"\n",
    "    # Hint: you may want to start with np.zeros()\n",
    "    \n",
    "    embedding = np.zeros(len(vocab))\n",
    "    \n",
    "    for token in list_of_tokens:\n",
    "        index_token = vocab[token]\n",
    "        embedding[index_token] = 1 \n",
    "\n",
    "    return embedding"
   ]
  },
  {
   "cell_type": "code",
   "execution_count": 29,
   "metadata": {
    "id": "j5kCOIlVUMrM"
   },
   "outputs": [
    {
     "name": "stdout",
     "output_type": "stream",
     "text": [
      "text: ['or', 'maybe', 'really', 'yeah', 'time', 'nothing', 'stuff', 'hello', 'wait', 'morning']\n",
      "your embedding: [0. 0. 0. 0. 0. 0. 0. 0. 0. 0. 0. 0. 0. 0. 0. 0. 0. 0. 0. 0. 0. 0. 0. 0.\n",
      " 0. 0. 0. 0. 0. 0. 0. 0. 0. 0. 0. 0. 0. 0. 0. 0. 0. 0. 0. 0. 0. 0. 0. 0.\n",
      " 0. 0. 0. 0. 0. 0. 0. 0. 0. 0. 0. 0. 0. 0. 0. 0. 0. 0. 0. 0. 0. 0. 0. 0.\n",
      " 0. 0. 0. 0. 0. 0. 0. 0. 0. 0. 0. 0. 0. 0. 0. 0. 0. 0. 0. 0. 0. 0. 0. 0.\n",
      " 0. 0. 0. 0. 0. 0. 0. 0. 0. 0. 0. 0. 0. 0. 0. 0. 0. 0. 0. 0. 0. 0. 0. 0.\n",
      " 0. 0. 0. 0. 0. 0. 0. 0. 0. 0. 0. 0. 0. 0. 0. 0. 0. 0. 0. 0. 0. 0. 0. 0.\n",
      " 0. 0. 0. 0. 0. 0. 0. 0. 0. 0. 0. 0. 0. 0. 0. 0. 0. 0. 0. 0. 0. 0. 0. 0.\n",
      " 0. 0. 0. 0. 0. 0. 0. 0. 0. 0. 0. 0. 0. 0. 0. 0. 0. 0. 0. 0. 0. 0. 0. 1.\n",
      " 0. 0. 0. 0. 0. 0. 0. 0. 0. 0. 0. 0. 0. 0. 0. 0. 0. 0. 0. 0. 0. 0. 0. 0.\n",
      " 0. 0. 0. 0. 0. 0. 0. 0. 0. 0. 0. 0. 0. 0. 0. 0. 0. 0. 0. 0. 0. 0. 0. 0.\n",
      " 0. 0. 0. 0. 0. 0. 0. 0. 0. 0. 0. 0. 0. 0. 0. 0. 0. 1. 0. 0. 0. 0. 0. 0.\n",
      " 0. 0. 0. 0. 0. 0. 0. 0. 0. 0. 0. 0. 1. 0. 0. 0. 0. 0. 0. 0. 0. 0. 0. 0.\n",
      " 0. 0. 0. 0. 0. 1. 0. 0. 0. 0. 0. 0. 0. 0. 0. 0. 0. 0. 0. 0. 1. 0. 0. 0.\n",
      " 0. 0. 0. 0. 0. 0. 0. 0. 0. 0. 0. 0. 0. 0. 0. 0. 0. 0. 0. 0. 0. 0. 0. 0.\n",
      " 0. 0. 0. 0. 0. 0. 0. 1. 0. 0. 0. 0. 0. 0. 0. 0. 0. 0. 0. 0. 0. 0. 0. 0.\n",
      " 0. 0. 0. 0. 0. 0. 0. 0. 0. 0. 0. 0. 0. 0. 0. 0. 0. 0. 0. 0. 0. 0. 0. 0.\n",
      " 0. 1. 0. 0. 0. 0. 0. 0. 0. 0. 0. 0. 0. 0. 0. 0. 0. 0. 0. 0. 0. 0. 0. 0.\n",
      " 0. 0. 0. 0. 0. 1. 0. 0. 0. 0. 0. 0. 0. 0. 0. 0. 0. 0. 0. 0. 0. 0. 0. 0.\n",
      " 0. 0. 0. 0. 0. 0. 0. 0. 0. 0. 0. 1. 0. 0. 0. 0. 0. 0. 0. 0. 0. 0. 0. 0.\n",
      " 0. 0. 0. 0. 0. 0. 0. 0. 0. 0. 0. 0. 0. 0. 0. 0. 0. 0. 0. 0. 0. 0. 0. 0.\n",
      " 0. 0. 0. 0. 0. 0. 0. 0. 0. 0. 0. 1. 0. 0. 0. 0. 0. 0. 0. 0.]\n",
      "calculated embedding: [[0 0 0 0 0 0 0 0 0 0 0 0 0 0 0 0 0 0 0 0 0 0 0 0 0 0 0 0 0 0 0 0 0 0 0 0\n",
      "  0 0 0 0 0 0 0 0 0 0 0 0 0 0 0 0 0 0 0 0 0 0 0 0 0 0 0 0 0 0 0 0 0 0 0 0\n",
      "  0 0 0 0 0 0 0 0 0 0 0 0 0 0 0 0 0 0 0 0 0 0 0 0 0 0 0 0 0 0 0 0 0 0 0 0\n",
      "  0 0 0 0 0 0 0 0 0 0 0 0 0 0 0 0 0 0 0 0 0 0 0 0 0 0 0 0 0 0 0 0 0 0 0 0\n",
      "  0 0 0 0 0 0 0 0 0 0 0 0 0 0 0 0 0 0 0 0 0 0 0 0 0 0 0 0 0 0 0 0 0 0 0 0\n",
      "  0 0 0 0 0 0 0 0 0 0 0 1 0 0 0 0 0 0 0 0 0 0 0 0 0 0 0 0 0 0 0 0 0 0 0 0\n",
      "  0 0 0 0 0 0 0 0 0 0 0 0 0 0 0 0 0 0 0 0 0 0 0 0 0 0 0 0 0 0 0 0 0 0 0 0\n",
      "  0 0 0 0 0 1 0 0 0 0 0 0 0 0 0 0 0 0 0 0 0 0 0 0 1 0 0 0 0 0 0 0 0 0 0 0\n",
      "  0 0 0 0 0 1 0 0 0 0 0 0 0 0 0 0 0 0 0 0 1 0 0 0 0 0 0 0 0 0 0 0 0 0 0 0\n",
      "  0 0 0 0 0 0 0 0 0 0 0 0 0 0 0 0 0 0 0 1 0 0 0 0 0 0 0 0 0 0 0 0 0 0 0 0\n",
      "  0 0 0 0 0 0 0 0 0 0 0 0 0 0 0 0 0 0 0 0 0 0 0 0 0 1 0 0 0 0 0 0 0 0 0 0\n",
      "  0 0 0 0 0 0 0 0 0 0 0 0 0 0 0 0 0 1 0 0 0 0 0 0 0 0 0 0 0 0 0 0 0 0 0 0\n",
      "  0 0 0 0 0 0 0 0 0 0 0 1 0 0 0 0 0 0 0 0 0 0 0 0 0 0 0 0 0 0 0 0 0 0 0 0\n",
      "  0 0 0 0 0 0 0 0 0 0 0 0 0 0 0 0 0 0 0 0 0 0 0 1 0 0 0 0 0 0 0 0]]\n",
      "Success!\n",
      "text: ['getting', 'weekly', 'over', 'aight', 'make', 'like', 'receive', 'beautiful', 'wish', 'birthday']\n",
      "Success!\n",
      "text: ['got', 'with', 'he', 'were', 'missed', 'hear', 'wake', 'guess', 'wake', 'bed']\n",
      "Success!\n",
      "text: ['shit', 'best', 'looking', 'per', 'easy', 'worry', 'online', 'enjoy', 'ah', 'plus']\n",
      "Success!\n",
      "text: ['going', 'money', 'sweet', 'code', 'pain', 'about', 'long', 'might', 'remember', 'before']\n",
      "Success!\n",
      "text: ['stuff', 're', 'com', 'show', 'wait', 'watching', 'trying', 'messages', 'txt', 'apply']\n",
      "Success!\n",
      "text: ['how', 'care', 'tomorrow', 'because', 'service', 'sweet', '10', 'talk', 'being', 'dat']\n",
      "Success!\n",
      "text: ['means', 'orange', 'without', 'heart', 'there', 'join', 'babe', 'girl', 'hope', 'wake']\n",
      "Success!\n",
      "text: ['world', 'miss', 'said', 'on', 'missed', 'way', 'wen', 'it', 'mail', 'hear']\n",
      "Success!\n",
      "text: ['number', 'into', 'if', 'line', 'quite', 'show', 'before', 'much', 'though', 'job']\n",
      "Success!\n",
      "text: ['mail', 'he', 'speak', 'year', 'attempt', 'fuck', 'abt', 'oh', 'boy', 'receive']\n",
      "Success!\n",
      "text: ['please', '1st', 'really', 'dunno', 'yeah', 'enough', 'wife', 'bored', 'evening', 'your']\n",
      "Success!\n",
      "text: ['care', 'text', 'give', 'told', 'nice', 'sorry', 'meet', 'xxx', 'left', 'attempt']\n",
      "Success!\n",
      "text: ['amp', 'enjoy', 'home', 'pls', 'mins', 'today', 'anything', 'be', 'this', 'book']\n",
      "Success!\n",
      "text: ['its', 'not', 'cost', 'gt', 'service', 'is', 'wish', 'apply', 'wanna', 'late']\n",
      "Success!\n"
     ]
    }
   ],
   "source": [
    "for test_num in range(15):\n",
    "    sample_token_indices = np.random.randint(0,500, size=10)\n",
    "    input_text = [index_to_token(index, VOCAB) for index in sample_token_indices]\n",
    "    input_text_as_str = \" \".join(input_text)\n",
    "    print(f\"text: {input_text}\")\n",
    "    if test_num == 0:\n",
    "        print(f\"your embedding: {binary_BoW_embedder(input_text, VOCAB)}\")\n",
    "        print(f\"calculated embedding: {vectorizer_bbow.transform([input_text_as_str]).toarray()}\")\n",
    "    assert np.isclose(binary_BoW_embedder(input_text, VOCAB), vectorizer_bbow.transform([input_text_as_str]).toarray()).all()\n",
    "    print(\"Success!\")"
   ]
  },
  {
   "cell_type": "markdown",
   "metadata": {
    "id": "9QvHSEz2xzAC"
   },
   "source": [
    "### Q2.d.e [2 points] Implement a Bag of Words embedding function that takes in a list of token and a vocab, and returns a numpy array corresponding to the embedding vector"
   ]
  },
  {
   "cell_type": "code",
   "execution_count": 30,
   "metadata": {
    "id": "RnWQOaXKaczA"
   },
   "outputs": [],
   "source": [
    "def BoW_embedder(list_of_tokens, vocab):\n",
    "    \"\"\"\n",
    "    Creates a binary Bag of Words embedding of a datapoint represented as a list of tokens, using the vocab\n",
    "    \"\"\"\n",
    "    # Hint: You may want to start with np.zeros()\n",
    "    embedding = np.zeros(len(vocab))\n",
    "    \n",
    "    for token in list_of_tokens:\n",
    "        index_token = vocab[token]\n",
    "        embedding[index_token] += 1\n",
    "    return embedding"
   ]
  },
  {
   "cell_type": "code",
   "execution_count": 31,
   "metadata": {
    "id": "zH4YTsgghcqE"
   },
   "outputs": [
    {
     "name": "stdout",
     "output_type": "stream",
     "text": [
      "text: ['hours', 'hope', 'holiday', 'hours', 'home', 'hope', 'holiday', 'home', 'home', 'hour']\n",
      "your embedding: [0. 0. 0. 0. 0. 0. 0. 0. 0. 0. 0. 0. 0. 0. 0. 0. 0. 0. 0. 0. 0. 0. 0. 0.\n",
      " 0. 0. 0. 0. 0. 0. 0. 0. 0. 0. 0. 0. 0. 0. 0. 0. 0. 0. 0. 0. 0. 0. 0. 0.\n",
      " 0. 0. 0. 0. 0. 0. 0. 0. 0. 0. 0. 0. 0. 0. 0. 0. 0. 0. 0. 0. 0. 0. 0. 0.\n",
      " 0. 0. 0. 0. 0. 0. 0. 0. 0. 0. 0. 0. 0. 0. 0. 0. 0. 0. 0. 0. 0. 0. 0. 0.\n",
      " 0. 0. 0. 0. 0. 0. 0. 0. 0. 0. 0. 0. 0. 0. 0. 0. 0. 0. 0. 0. 0. 0. 0. 0.\n",
      " 0. 0. 0. 0. 0. 0. 0. 0. 0. 0. 0. 0. 0. 0. 0. 0. 0. 0. 0. 0. 0. 0. 0. 0.\n",
      " 0. 0. 0. 0. 0. 0. 0. 0. 0. 0. 0. 0. 0. 0. 0. 0. 0. 0. 0. 0. 0. 0. 0. 0.\n",
      " 0. 0. 0. 0. 0. 0. 0. 0. 0. 0. 0. 0. 0. 0. 0. 0. 0. 0. 0. 0. 0. 0. 0. 0.\n",
      " 0. 0. 0. 0. 0. 0. 0. 2. 3. 2. 1. 2. 0. 0. 0. 0. 0. 0. 0. 0. 0. 0. 0. 0.\n",
      " 0. 0. 0. 0. 0. 0. 0. 0. 0. 0. 0. 0. 0. 0. 0. 0. 0. 0. 0. 0. 0. 0. 0. 0.\n",
      " 0. 0. 0. 0. 0. 0. 0. 0. 0. 0. 0. 0. 0. 0. 0. 0. 0. 0. 0. 0. 0. 0. 0. 0.\n",
      " 0. 0. 0. 0. 0. 0. 0. 0. 0. 0. 0. 0. 0. 0. 0. 0. 0. 0. 0. 0. 0. 0. 0. 0.\n",
      " 0. 0. 0. 0. 0. 0. 0. 0. 0. 0. 0. 0. 0. 0. 0. 0. 0. 0. 0. 0. 0. 0. 0. 0.\n",
      " 0. 0. 0. 0. 0. 0. 0. 0. 0. 0. 0. 0. 0. 0. 0. 0. 0. 0. 0. 0. 0. 0. 0. 0.\n",
      " 0. 0. 0. 0. 0. 0. 0. 0. 0. 0. 0. 0. 0. 0. 0. 0. 0. 0. 0. 0. 0. 0. 0. 0.\n",
      " 0. 0. 0. 0. 0. 0. 0. 0. 0. 0. 0. 0. 0. 0. 0. 0. 0. 0. 0. 0. 0. 0. 0. 0.\n",
      " 0. 0. 0. 0. 0. 0. 0. 0. 0. 0. 0. 0. 0. 0. 0. 0. 0. 0. 0. 0. 0. 0. 0. 0.\n",
      " 0. 0. 0. 0. 0. 0. 0. 0. 0. 0. 0. 0. 0. 0. 0. 0. 0. 0. 0. 0. 0. 0. 0. 0.\n",
      " 0. 0. 0. 0. 0. 0. 0. 0. 0. 0. 0. 0. 0. 0. 0. 0. 0. 0. 0. 0. 0. 0. 0. 0.\n",
      " 0. 0. 0. 0. 0. 0. 0. 0. 0. 0. 0. 0. 0. 0. 0. 0. 0. 0. 0. 0. 0. 0. 0. 0.\n",
      " 0. 0. 0. 0. 0. 0. 0. 0. 0. 0. 0. 0. 0. 0. 0. 0. 0. 0. 0. 0.]\n",
      "calculated embedding: [[0 0 0 0 0 0 0 0 0 0 0 0 0 0 0 0 0 0 0 0 0 0 0 0 0 0 0 0 0 0 0 0 0 0 0 0\n",
      "  0 0 0 0 0 0 0 0 0 0 0 0 0 0 0 0 0 0 0 0 0 0 0 0 0 0 0 0 0 0 0 0 0 0 0 0\n",
      "  0 0 0 0 0 0 0 0 0 0 0 0 0 0 0 0 0 0 0 0 0 0 0 0 0 0 0 0 0 0 0 0 0 0 0 0\n",
      "  0 0 0 0 0 0 0 0 0 0 0 0 0 0 0 0 0 0 0 0 0 0 0 0 0 0 0 0 0 0 0 0 0 0 0 0\n",
      "  0 0 0 0 0 0 0 0 0 0 0 0 0 0 0 0 0 0 0 0 0 0 0 0 0 0 0 0 0 0 0 0 0 0 0 0\n",
      "  0 0 0 0 0 0 0 0 0 0 0 0 0 0 0 0 0 0 0 2 3 2 1 2 0 0 0 0 0 0 0 0 0 0 0 0\n",
      "  0 0 0 0 0 0 0 0 0 0 0 0 0 0 0 0 0 0 0 0 0 0 0 0 0 0 0 0 0 0 0 0 0 0 0 0\n",
      "  0 0 0 0 0 0 0 0 0 0 0 0 0 0 0 0 0 0 0 0 0 0 0 0 0 0 0 0 0 0 0 0 0 0 0 0\n",
      "  0 0 0 0 0 0 0 0 0 0 0 0 0 0 0 0 0 0 0 0 0 0 0 0 0 0 0 0 0 0 0 0 0 0 0 0\n",
      "  0 0 0 0 0 0 0 0 0 0 0 0 0 0 0 0 0 0 0 0 0 0 0 0 0 0 0 0 0 0 0 0 0 0 0 0\n",
      "  0 0 0 0 0 0 0 0 0 0 0 0 0 0 0 0 0 0 0 0 0 0 0 0 0 0 0 0 0 0 0 0 0 0 0 0\n",
      "  0 0 0 0 0 0 0 0 0 0 0 0 0 0 0 0 0 0 0 0 0 0 0 0 0 0 0 0 0 0 0 0 0 0 0 0\n",
      "  0 0 0 0 0 0 0 0 0 0 0 0 0 0 0 0 0 0 0 0 0 0 0 0 0 0 0 0 0 0 0 0 0 0 0 0\n",
      "  0 0 0 0 0 0 0 0 0 0 0 0 0 0 0 0 0 0 0 0 0 0 0 0 0 0 0 0 0 0 0 0]]\n",
      "Success!\n",
      "text: ['hours', 'hope', 'holiday', 'hour', 'hours', 'hour', 'hours', 'hours', 'hope', 'hours']\n",
      "Success!\n",
      "text: ['hour', 'hours', 'hope', 'hope', 'hour', 'home', 'home', 'hours', 'holiday', 'hours']\n",
      "Success!\n",
      "text: ['hour', 'hour', 'hour', 'hour', 'hour', 'hope', 'home', 'hour', 'holiday', 'holiday']\n",
      "Success!\n",
      "text: ['holiday', 'holiday', 'hope', 'holiday', 'hour', 'hours', 'holiday', 'hope', 'hope', 'holiday']\n",
      "Success!\n",
      "text: ['hours', 'holiday', 'hope', 'home', 'hour', 'hope', 'holiday', 'hour', 'holiday', 'holiday']\n",
      "Success!\n",
      "text: ['home', 'hour', 'hour', 'home', 'hope', 'holiday', 'hours', 'holiday', 'holiday', 'hope']\n",
      "Success!\n",
      "text: ['holiday', 'home', 'home', 'hour', 'hours', 'holiday', 'holiday', 'hope', 'home', 'hours']\n",
      "Success!\n",
      "text: ['hour', 'home', 'hour', 'hope', 'hope', 'holiday', 'hours', 'hour', 'home', 'hope']\n",
      "Success!\n",
      "text: ['holiday', 'holiday', 'hour', 'hope', 'hours', 'hope', 'hour', 'hour', 'hope', 'hour']\n",
      "Success!\n",
      "text: ['hope', 'home', 'hope', 'hope', 'hour', 'hour', 'holiday', 'holiday', 'home', 'holiday']\n",
      "Success!\n",
      "text: ['hope', 'hour', 'holiday', 'holiday', 'home', 'home', 'hope', 'hour', 'home', 'holiday']\n",
      "Success!\n",
      "text: ['hour', 'hour', 'holiday', 'home', 'holiday', 'hour', 'hours', 'hours', 'hope', 'holiday']\n",
      "Success!\n",
      "text: ['holiday', 'hope', 'hope', 'hope', 'hour', 'holiday', 'hour', 'hope', 'holiday', 'hour']\n",
      "Success!\n",
      "text: ['hour', 'hope', 'holiday', 'hope', 'holiday', 'hours', 'home', 'home', 'home', 'hope']\n",
      "Success!\n"
     ]
    }
   ],
   "source": [
    "for test_num in range(15):\n",
    "    sample_token_indices = np.random.randint(199,204, size=10)\n",
    "    input_text = [index_to_token(index, VOCAB) for index in sample_token_indices]\n",
    "    input_text_as_str = \" \".join(input_text)\n",
    "    print(f\"text: {input_text}\")\n",
    "    if test_num == 0:\n",
    "        print(f\"your embedding: {BoW_embedder(input_text, VOCAB)}\")\n",
    "        print(f\"calculated embedding: {vectorizer_auto.transform([input_text_as_str]).toarray()}\")\n",
    "    assert np.isclose(BoW_embedder(input_text, VOCAB), vectorizer_auto.transform([input_text_as_str]).toarray()).all()\n",
    "    print(\"Success!\")"
   ]
  },
  {
   "cell_type": "markdown",
   "metadata": {
    "id": "c_2Ff_JaiJ8_"
   },
   "source": [
    "## Q2.e [11 points] Model Fitting"
   ]
  },
  {
   "cell_type": "code",
   "execution_count": 32,
   "metadata": {
    "id": "7xkV3-sphmKl"
   },
   "outputs": [],
   "source": [
    "from sklearn.linear_model import LogisticRegression\n",
    "from sklearn.metrics import accuracy_score"
   ]
  },
  {
   "cell_type": "code",
   "execution_count": 33,
   "metadata": {
    "id": "Bkq8Wnm7jSCn"
   },
   "outputs": [],
   "source": [
    "logreg_auto = LogisticRegression(random_state=1).fit(vectorized_data_auto, y_train)\n",
    "logreg_bbow = LogisticRegression(random_state=1).fit(vectorized_data_bbow, y_train)\n",
    "logreg_tfidf = LogisticRegression(random_state=1).fit(vectorized_data_tfidf_auto, y_train)"
   ]
  },
  {
   "cell_type": "markdown",
   "metadata": {
    "id": "x166D5jgzcXD"
   },
   "source": [
    "### Q2.e.a [3 points] Evaluation Metrics\n",
    "Below you can see a set of simple accuracy scores: \n",
    "\n",
    "https://scikit-learn.org/stable/modules/model_evaluation.html#accuracy-score\n",
    "\n",
    "In what situation would accuracy be a good evaluation metric? In what situation it wouldn't? "
   ]
  },
  {
   "cell_type": "code",
   "execution_count": 34,
   "metadata": {
    "id": "rBmtzT6dlmKo"
   },
   "outputs": [
    {
     "name": "stdout",
     "output_type": "stream",
     "text": [
      " All 1s; accuracy on validation data: 0.1255980861244019\n",
      " All 0s; accuracy on validation data: 0.8744019138755981\n",
      " Logistic Regression on BoW embedding; accuracy on validation data: 0.9772727272727273\n",
      " Logistic Regression on binary BoW embedding; accuracy on validation data: 0.9808612440191388\n",
      " Logistic Regression on TF-IDF embedding; accuracy on validation data: 0.972488038277512\n"
     ]
    }
   ],
   "source": [
    "print(f\" All 1s; accuracy on validation data: {accuracy_score(y_val, np.ones_like(y_val))}\")\n",
    "\n",
    "print(f\" All 0s; accuracy on validation data: {accuracy_score(y_val, np.zeros_like(y_val))}\")\n",
    "\n",
    "print(f\" Logistic Regression on BoW embedding; accuracy on validation data: {accuracy_score(y_val, logreg_auto.predict(vectorizer_auto.transform(X_val)))}\")\n",
    "\n",
    "print(f\" Logistic Regression on binary BoW embedding; accuracy on validation data: {accuracy_score(y_val, logreg_bbow.predict(vectorizer_bbow.transform(X_val)))}\")\n",
    "\n",
    "print(f\" Logistic Regression on TF-IDF embedding; accuracy on validation data: {accuracy_score(y_val, logreg_tfidf.predict(tfidf_transformer.transform(vectorizer_auto.transform(X_val))))}\")\n"
   ]
  },
  {
   "cell_type": "markdown",
   "metadata": {
    "id": "f3gZZYLy0f37"
   },
   "source": [
    "YOUR ANSWER HERE"
   ]
  },
  {
   "cell_type": "markdown",
   "metadata": {},
   "source": [
    "Accuracy would be a good evaluation metric if we are certain that we're using the optimal value for the threshold that we use to compare the predicted probabilities. The most common default threshold is 0.5 but this often not optimal. Also, accuracy would be a useful metric if we don't care how far from the threshold our predicted probabilities are and if it makes no difference to us the type error of our model (misclassifying spam as not spam is as costly as misclassifying not spam as spam).\n",
    "\n",
    "Accuracy wouldn't be a good choice in the opposite cases of those listed above."
   ]
  },
  {
   "cell_type": "markdown",
   "metadata": {
    "id": "1OWMNrwD0hwR"
   },
   "source": [
    "### Q2.e.b [8 points] Answer the following in one-two sentences (2 points each)\n",
    "\n",
    "* What is the interpretation of coefficient $\\beta_j$ with $j > 1$ (so not the intercept) in the Logistic regression model fit on the binary BoW embeddings?\n",
    "\n"
   ]
  },
  {
   "cell_type": "markdown",
   "metadata": {
    "id": "JB4UdDyj11C_"
   },
   "source": [
    "YOUR ANSWER HERE\n",
    "\n",
    "It represents how the log-odds of the SMS being spam will change by having the jth token in the datapoint"
   ]
  },
  {
   "cell_type": "markdown",
   "metadata": {},
   "source": [
    "* What is the interpretation of coefficient $\\beta_j$ with $j > 1$ (so not the intercept) in the Logistic regression model fit on the BoW embeddings?"
   ]
  },
  {
   "cell_type": "markdown",
   "metadata": {
    "id": "JB4UdDyj11C_"
   },
   "source": [
    "YOUR ANSWER HERE\n",
    "\n",
    "It represents how the log-odds of the SMS being spam will change for each time the jth token is in the datapoint"
   ]
  },
  {
   "cell_type": "markdown",
   "metadata": {},
   "source": [
    "* If we were to include 1-st order interaction terms in our Logistic Regression model fit on binary BoW embeddings, what would be the interpretation of a coefficient for that interaction ?"
   ]
  },
  {
   "cell_type": "markdown",
   "metadata": {
    "id": "JB4UdDyj11C_"
   },
   "source": [
    "YOUR ANSWER HERE\n",
    "\n",
    "It represents how the log-odds of the SMS being spam will change by having both tokens in the datapoint"
   ]
  },
  {
   "cell_type": "markdown",
   "metadata": {},
   "source": [
    "* Is the above different from fitting a Logistic Regression on a combination of unigrams and bigrams (1-grams, and 2-grams)? Explain."
   ]
  },
  {
   "cell_type": "markdown",
   "metadata": {
    "id": "JB4UdDyj11C_"
   },
   "source": [
    "YOUR ANSWER HERE\n",
    "\n",
    "Not necesarily, because for a bigram to be considered the tokens must be next to each other in the datapoint, whereas for the interaction term the tokens need to be in the datapoint but the position in relation to each other doesn't matter"
   ]
  },
  {
   "cell_type": "markdown",
   "metadata": {
    "id": "YFZJTJ9msv_V"
   },
   "source": [
    "## Q2.f [4 points] Word Vectors\n",
    "\n",
    "Below we will be using a set of pre-trained word embeddings from the SpaCy library. For the purpose of the questions below, assume that they were trained\n",
    "using a Skip-Gram objective as described in lecture."
   ]
  },
  {
   "cell_type": "code",
   "execution_count": 35,
   "metadata": {
    "id": "9vllrC6GmURD",
    "scrolled": true
   },
   "outputs": [],
   "source": [
    "# This installs a full pipeline of tokenizer -> embedder with additional components.\n",
    "\n",
    "import spacy\n",
    "spacy_pipeline = spacy.load('en_core_web_md') # If this line produces an error,\n",
    "# you might need to re-start the runtime after running the first cell."
   ]
  },
  {
   "cell_type": "markdown",
   "metadata": {
    "id": "MHMjDoj22TiQ"
   },
   "source": [
    "### Q2.f.a [2 points] Implement the function get_document_embedding_from_spacy below to return the document embedding as the average of all vector embeddings.\n",
    "\n",
    "You are not allowed to use `tokens.vector` in your functions, but you can check against it that your solution is accurate"
   ]
  },
  {
   "cell_type": "code",
   "execution_count": 36,
   "metadata": {},
   "outputs": [],
   "source": [
    "sample_token_indices = np.random.randint(0,500, size=10)\n",
    "input_text = [index_to_token(index, VOCAB) for index in sample_token_indices]\n",
    "input_text_as_str = \" \".join(input_text)\n"
   ]
  },
  {
   "cell_type": "code",
   "execution_count": 37,
   "metadata": {
    "id": "Lt-s7xVZm_5t"
   },
   "outputs": [],
   "source": [
    "def get_document_embedding_from_spacy(text:str) -> np.ndarray:\n",
    "    \"\"\"\n",
    "    returns the embedding vector representing the entire text by averaging the \n",
    "    word level embeddings.\n",
    "\n",
    "    !! DO NOT USE tokens.vector directly!! \n",
    "    \"\"\"\n",
    "    tokens = spacy_pipeline(text)\n",
    "\n",
    "    # Hint: you can iterate over each token in `tokens` and access the underlying vector with .vector\n",
    "    document_embedding = np.mean([token.vector for token in tokens], axis=0)\n",
    "\n",
    "    return document_embedding"
   ]
  },
  {
   "cell_type": "code",
   "execution_count": 38,
   "metadata": {
    "id": "AWf-PZXlp2Do"
   },
   "outputs": [
    {
     "name": "stdout",
     "output_type": "stream",
     "text": [
      "text: ['thing', 'still', 'text', 'enjoy', 'here', 'then', 'dun', 'anything', 'guy', 'weekly']\n",
      "your embedding: [-1.06595896e-01  7.91089982e-02 -2.58593380e-01 -7.63885081e-02\n",
      "  1.26982003e-01  1.36778310e-01  1.83586888e-02 -2.85775721e-01\n",
      "  6.27655014e-02  2.10907006e+00 -2.63153881e-01  1.33809820e-01\n",
      "  5.81153035e-02 -9.41911116e-02 -7.38481060e-02  3.88816968e-02\n",
      " -9.82097909e-02  8.30210030e-01 -1.71062395e-01  6.49387613e-02\n",
      "  1.56051992e-02  8.96746069e-02  1.11372426e-01  4.36438993e-02\n",
      "  1.23564385e-01  1.24662995e-01  1.17879063e-02 -2.28987411e-01\n",
      "  2.32392818e-01 -1.89339310e-01 -9.12214071e-02  6.34998903e-02\n",
      " -5.53512201e-02  1.73856020e-02 -5.28411977e-02  2.86935028e-02\n",
      " -1.15404008e-02  8.54986086e-02 -9.12498981e-02 -7.86288269e-03\n",
      " -1.21571064e-01  4.63019982e-02  6.17484041e-02  1.94390006e-02\n",
      "  5.04818670e-02  2.01809645e-01  7.38304865e-04 -9.24137086e-02\n",
      "  1.46252111e-01 -1.02991499e-01 -1.42016396e-01  2.03592032e-02\n",
      "  1.30739719e-01 -3.84897031e-02  4.39146981e-02  2.80777998e-02\n",
      " -2.79606469e-02 -2.18934938e-01  1.43541709e-01 -1.24661602e-01\n",
      " -2.04804629e-01 -1.81145191e-01 -7.75483847e-02  2.30848745e-01\n",
      "  1.99162811e-01 -7.66744465e-02 -1.26187593e-01  1.39817685e-01\n",
      "  6.68797046e-02  2.80285597e-01  5.82472011e-02  5.61110079e-02\n",
      "  2.60439575e-01 -1.57350704e-01  4.69055064e-02  1.80933595e-01\n",
      "  9.23603922e-02 -2.75030080e-02 -1.40353099e-01  4.03231770e-01\n",
      "  1.44658104e-01 -1.58770829e-01 -1.78963721e-01  1.75025016e-02\n",
      "  1.50456518e-01 -8.63724500e-02  2.42081597e-01 -2.35893995e-01\n",
      "  3.42170000e-01 -2.29712985e-02 -1.84123591e-01  2.96382010e-02\n",
      " -4.52380106e-02 -8.21980182e-03  9.84809920e-02 -5.11066988e-02\n",
      " -5.37246540e-02  6.57789931e-02  1.67048424e-02  7.22029954e-02\n",
      "  1.57989468e-02 -6.29649684e-02  5.08167967e-02 -2.05135830e-02\n",
      "  2.29128286e-01 -6.37559474e-01  1.88925907e-01 -3.19631994e-02\n",
      " -7.89142996e-02  8.82833973e-02  1.16750404e-01 -3.11527312e-01\n",
      "  1.53700709e-01  5.18913381e-02  4.41691019e-02 -1.27672013e-02\n",
      " -2.93272976e-02 -1.24811009e-01 -1.07473098e-01  4.83098030e-02\n",
      "  6.61764964e-02 -1.84243679e-01  1.08620990e-02  1.10139504e-01\n",
      "  2.62492478e-01  5.51811978e-02 -1.00007199e-01 -2.81838864e-01\n",
      "  1.00885712e-01 -4.90220077e-02 -3.81788984e-02 -4.46130969e-02\n",
      "  3.34000029e-02  2.11831599e-01  1.16594002e-01  7.49420077e-02\n",
      "  3.26051004e-02  4.35209274e-02 -9.09726173e-02 -6.37352020e-02\n",
      " -1.95571208e+00  1.32486105e-01  9.53231081e-02 -1.52291004e-02\n",
      "  1.15547299e-01 -2.21491128e-01 -7.11062923e-02  2.86528729e-02\n",
      " -9.37120914e-02 -8.88989046e-02  1.70937981e-02  2.26753399e-01\n",
      "  1.25671878e-01 -8.54025930e-02 -7.85490051e-02  2.87992954e-02\n",
      " -1.99307986e-02 -1.89196095e-01 -1.49880974e-02 -6.37326017e-02\n",
      " -1.16385795e-01  3.80611047e-02 -1.20519891e-01 -4.75234985e-02\n",
      " -1.58697888e-01 -8.10488984e-02 -8.75438973e-02  9.70104933e-02\n",
      "  1.06915593e-01 -1.15292907e-01 -5.30473962e-02  8.01635012e-02\n",
      "  1.92782320e-02 -2.98622012e-01  2.58589396e-03  1.11349799e-01\n",
      " -4.63622995e-02  2.51499703e-03 -4.58507985e-02 -2.65094992e-02\n",
      " -5.65071478e-02 -1.75256968e-01 -1.71754196e-01 -8.81151762e-03\n",
      " -8.81879963e-03 -1.02337494e-01 -9.14853960e-02 -1.87836111e-01\n",
      "  2.44250894e-01 -1.47913545e-01  6.71698973e-02  5.79364002e-02\n",
      " -2.16445044e-01 -4.42338400e-02  2.02115566e-01  6.05320036e-02\n",
      " -1.05292283e-01 -1.60389155e-01  1.05685689e-01  1.44574702e-01\n",
      " -9.49916989e-02 -6.15625009e-02 -9.73447934e-02 -1.56234398e-01\n",
      "  7.02364892e-02 -2.72877999e-02  4.17655101e-03  3.05995494e-02\n",
      "  6.60447329e-02  4.81186993e-02 -2.00022012e-02 -1.07157208e-01\n",
      "  2.07515005e-02 -1.11394621e-01  8.48550163e-03  1.19025977e-02\n",
      "  1.13621950e-02 -1.49501383e-01 -3.51001501e-01  5.64678013e-02\n",
      "  1.21944621e-01 -1.11272290e-01 -4.45610052e-03  8.85736048e-02\n",
      "  1.83467977e-02 -1.52556002e-02 -3.79473381e-02  1.02317795e-01\n",
      "  1.35775715e-01 -3.69632989e-02 -2.79254317e-02  9.70505998e-02\n",
      "  8.52179900e-02  2.01948807e-01  6.10720227e-03  5.89480996e-02\n",
      "  3.87830883e-02 -3.99859138e-02 -1.39068693e-01  2.63231993e-01\n",
      " -2.48654000e-02  9.57983509e-02  3.91895184e-03  1.10756114e-01\n",
      "  4.95524928e-02 -1.43819809e-01 -1.28051996e-01 -1.09742284e-02\n",
      " -8.77822489e-02  1.28861874e-01  1.55271992e-01 -1.17266700e-01\n",
      " -4.05014977e-02  5.13070002e-02  7.21820742e-02  1.91195399e-01\n",
      "  4.10711989e-02 -7.72915930e-02 -7.08080754e-02 -9.71624777e-02\n",
      "  2.55995810e-01  2.51355767e-01  2.09300518e-02  3.95144001e-02\n",
      "  1.59459114e-01 -3.98249999e-02 -1.97775513e-01  4.47143987e-02\n",
      "  5.23810267e-01  1.64561003e-01 -1.56155974e-01 -1.52225897e-01\n",
      " -1.98557973e-02 -1.72213495e-01 -1.17671505e-01  1.61061198e-01\n",
      " -3.82662937e-02 -6.75619859e-03  1.45996017e-02  2.36894995e-01\n",
      "  1.08408108e-01 -2.75281016e-02 -1.59759820e-03 -1.58994198e-01\n",
      " -4.15528975e-02  1.12410192e-03  1.12073801e-01 -1.08727068e-02\n",
      "  5.05218022e-02  5.98489046e-02 -4.22674939e-02 -1.64209992e-01\n",
      " -2.24625394e-01 -1.67617604e-01  2.45279476e-01 -4.11821008e-02\n",
      " -4.43226956e-02 -1.27027303e-01  1.00868002e-01  1.34983405e-01]\n",
      "calculated embedding: [-1.06595896e-01  7.91089982e-02 -2.58593380e-01 -7.63885081e-02\n",
      "  1.26982003e-01  1.36778310e-01  1.83586888e-02 -2.85775721e-01\n",
      "  6.27655014e-02  2.10907006e+00 -2.63153881e-01  1.33809820e-01\n",
      "  5.81153035e-02 -9.41911116e-02 -7.38481060e-02  3.88816968e-02\n",
      " -9.82097909e-02  8.30210030e-01 -1.71062395e-01  6.49387613e-02\n",
      "  1.56051992e-02  8.96746069e-02  1.11372426e-01  4.36438993e-02\n",
      "  1.23564385e-01  1.24662995e-01  1.17879063e-02 -2.28987411e-01\n",
      "  2.32392818e-01 -1.89339310e-01 -9.12214071e-02  6.34998903e-02\n",
      " -5.53512201e-02  1.73856020e-02 -5.28411977e-02  2.86935028e-02\n",
      " -1.15404008e-02  8.54986086e-02 -9.12498981e-02 -7.86288269e-03\n",
      " -1.21571064e-01  4.63019982e-02  6.17484041e-02  1.94390006e-02\n",
      "  5.04818670e-02  2.01809645e-01  7.38304865e-04 -9.24137086e-02\n",
      "  1.46252111e-01 -1.02991499e-01 -1.42016396e-01  2.03592032e-02\n",
      "  1.30739719e-01 -3.84897031e-02  4.39146981e-02  2.80777998e-02\n",
      " -2.79606469e-02 -2.18934938e-01  1.43541709e-01 -1.24661602e-01\n",
      " -2.04804629e-01 -1.81145191e-01 -7.75483847e-02  2.30848745e-01\n",
      "  1.99162811e-01 -7.66744465e-02 -1.26187593e-01  1.39817685e-01\n",
      "  6.68797046e-02  2.80285597e-01  5.82472011e-02  5.61110079e-02\n",
      "  2.60439575e-01 -1.57350704e-01  4.69055064e-02  1.80933595e-01\n",
      "  9.23603922e-02 -2.75030080e-02 -1.40353099e-01  4.03231770e-01\n",
      "  1.44658104e-01 -1.58770829e-01 -1.78963721e-01  1.75025016e-02\n",
      "  1.50456518e-01 -8.63724500e-02  2.42081597e-01 -2.35893995e-01\n",
      "  3.42170000e-01 -2.29712985e-02 -1.84123591e-01  2.96382010e-02\n",
      " -4.52380106e-02 -8.21980182e-03  9.84809920e-02 -5.11066988e-02\n",
      " -5.37246540e-02  6.57789931e-02  1.67048424e-02  7.22029954e-02\n",
      "  1.57989468e-02 -6.29649684e-02  5.08167967e-02 -2.05135830e-02\n",
      "  2.29128286e-01 -6.37559474e-01  1.88925907e-01 -3.19631994e-02\n",
      " -7.89142996e-02  8.82833973e-02  1.16750404e-01 -3.11527312e-01\n",
      "  1.53700709e-01  5.18913381e-02  4.41691019e-02 -1.27672013e-02\n",
      " -2.93272976e-02 -1.24811009e-01 -1.07473098e-01  4.83098030e-02\n",
      "  6.61764964e-02 -1.84243679e-01  1.08620990e-02  1.10139504e-01\n",
      "  2.62492478e-01  5.51811978e-02 -1.00007199e-01 -2.81838864e-01\n",
      "  1.00885712e-01 -4.90220077e-02 -3.81788984e-02 -4.46130969e-02\n",
      "  3.34000029e-02  2.11831599e-01  1.16594002e-01  7.49420077e-02\n",
      "  3.26051004e-02  4.35209274e-02 -9.09726173e-02 -6.37352020e-02\n",
      " -1.95571208e+00  1.32486105e-01  9.53231081e-02 -1.52291004e-02\n",
      "  1.15547299e-01 -2.21491128e-01 -7.11062923e-02  2.86528729e-02\n",
      " -9.37120914e-02 -8.88989046e-02  1.70937981e-02  2.26753399e-01\n",
      "  1.25671878e-01 -8.54025930e-02 -7.85490051e-02  2.87992954e-02\n",
      " -1.99307986e-02 -1.89196095e-01 -1.49880974e-02 -6.37326017e-02\n",
      " -1.16385795e-01  3.80611047e-02 -1.20519891e-01 -4.75234985e-02\n",
      " -1.58697888e-01 -8.10488984e-02 -8.75438973e-02  9.70104933e-02\n",
      "  1.06915593e-01 -1.15292907e-01 -5.30473962e-02  8.01635012e-02\n",
      "  1.92782320e-02 -2.98622012e-01  2.58589396e-03  1.11349799e-01\n",
      " -4.63622995e-02  2.51499703e-03 -4.58507985e-02 -2.65094992e-02\n",
      " -5.65071478e-02 -1.75256968e-01 -1.71754196e-01 -8.81151762e-03\n",
      " -8.81879963e-03 -1.02337494e-01 -9.14853960e-02 -1.87836111e-01\n",
      "  2.44250894e-01 -1.47913545e-01  6.71698973e-02  5.79364002e-02\n",
      " -2.16445044e-01 -4.42338400e-02  2.02115566e-01  6.05320036e-02\n",
      " -1.05292283e-01 -1.60389155e-01  1.05685689e-01  1.44574702e-01\n",
      " -9.49916989e-02 -6.15625009e-02 -9.73447934e-02 -1.56234398e-01\n",
      "  7.02364892e-02 -2.72877999e-02  4.17655101e-03  3.05995494e-02\n",
      "  6.60447329e-02  4.81186993e-02 -2.00022012e-02 -1.07157208e-01\n",
      "  2.07515005e-02 -1.11394621e-01  8.48550163e-03  1.19025977e-02\n",
      "  1.13621950e-02 -1.49501383e-01 -3.51001501e-01  5.64678013e-02\n",
      "  1.21944621e-01 -1.11272290e-01 -4.45610052e-03  8.85736048e-02\n",
      "  1.83467977e-02 -1.52556002e-02 -3.79473381e-02  1.02317795e-01\n",
      "  1.35775715e-01 -3.69632989e-02 -2.79254317e-02  9.70505998e-02\n",
      "  8.52179900e-02  2.01948807e-01  6.10720227e-03  5.89480996e-02\n",
      "  3.87830883e-02 -3.99859138e-02 -1.39068693e-01  2.63231993e-01\n",
      " -2.48654000e-02  9.57983509e-02  3.91895184e-03  1.10756114e-01\n",
      "  4.95524928e-02 -1.43819809e-01 -1.28051996e-01 -1.09742284e-02\n",
      " -8.77822489e-02  1.28861874e-01  1.55271992e-01 -1.17266700e-01\n",
      " -4.05014977e-02  5.13070002e-02  7.21820742e-02  1.91195399e-01\n",
      "  4.10711989e-02 -7.72915930e-02 -7.08080754e-02 -9.71624777e-02\n",
      "  2.55995810e-01  2.51355767e-01  2.09300518e-02  3.95144001e-02\n",
      "  1.59459114e-01 -3.98249999e-02 -1.97775513e-01  4.47143987e-02\n",
      "  5.23810267e-01  1.64561003e-01 -1.56155974e-01 -1.52225897e-01\n",
      " -1.98557973e-02 -1.72213495e-01 -1.17671505e-01  1.61061198e-01\n",
      " -3.82662937e-02 -6.75619859e-03  1.45996017e-02  2.36894995e-01\n",
      "  1.08408108e-01 -2.75281016e-02 -1.59759820e-03 -1.58994198e-01\n",
      " -4.15528975e-02  1.12410192e-03  1.12073801e-01 -1.08727068e-02\n",
      "  5.05218022e-02  5.98489046e-02 -4.22674939e-02 -1.64209992e-01\n",
      " -2.24625394e-01 -1.67617604e-01  2.45279476e-01 -4.11821008e-02\n",
      " -4.43226956e-02 -1.27027303e-01  1.00868002e-01  1.34983405e-01]\n",
      "Success!\n",
      "text: ['vouchers', 'sleep', 'who', 'some', 'aight', 'little', 'full', 'as', 'leave', 'shopping']\n",
      "Success!\n",
      "text: ['bed', 'use', 'messages', 'my', 'am', 'last', 'morning', 'never', 'cool', 'name']\n",
      "Success!\n",
      "text: ['show', 'wan', 'word', 'wat', 'part', 'on', 'find', '1000', 'apply', 'hello']\n",
      "Success!\n",
      "text: ['beautiful', 'actually', 'gt', 'just', 'full', 'without', 'back', 'sms', '150ppm', 'cost']\n",
      "Success!\n",
      "text: ['speak', 'let', 'around', 'much', 'room', 'yo', 'ok', 'half', 'coming', 'cost']\n",
      "Success!\n",
      "text: ['he', 'word', 'dis', 'heart', 'make', 'while', 'tmr', 'why', 'getting', 'many']\n",
      "Success!\n",
      "text: ['pick', 'dun', 'after', 'music', 'xxx', 'know', 'being', 'big', 'pick', 'service']\n",
      "Success!\n",
      "text: ['gud', 'much', 'didnt', 'next', 'txt', 'ready', 'for', 'want', 'driving', 'friends']\n",
      "Success!\n",
      "text: ['xxx', 'stuff', 'win', 'mobile', 'da', 'to', 'than', 'offer', 'lot', 'guy']\n",
      "Success!\n",
      "text: ['ask', 'without', 'got', 'love', 'always', 'school', 'one', 'those', 'thk', 'able']\n",
      "Success!\n",
      "text: ['pain', 'tell', 'out', 'are', 'guaranteed', 'again', 'person', 'messages', 'years', 'them']\n",
      "Success!\n",
      "text: ['everything', 'weekly', 'sleep', 'why', 'face', 'com', 'say', 'phone', 'next', 'it']\n",
      "Success!\n",
      "text: ['walk', 'ready', 'bed', 'free', 'haven', 'bored', 'hear', 'dreams', 'first', 'over']\n",
      "Success!\n",
      "text: ['big', 'ready', 'once', 'haha', 'got', 'play', 'missed', 'being', 'ya', 'wait']\n",
      "Success!\n"
     ]
    }
   ],
   "source": [
    "# TEST FOR THE get_document_embedding_from_spacy function\n",
    "for test_num in range(15):\n",
    "    sample_token_indices = np.random.randint(0,500, size=10)\n",
    "    input_text = [index_to_token(index, VOCAB) for index in sample_token_indices]\n",
    "    input_text_as_str = \" \".join(input_text)\n",
    "    print(f\"text: {input_text}\")\n",
    "    if test_num == 0:\n",
    "        print(f\"your embedding: {get_document_embedding_from_spacy(input_text_as_str)}\")\n",
    "        print(f\"calculated embedding: {spacy_pipeline(input_text_as_str).vector}\")\n",
    "    assert np.isclose(get_document_embedding_from_spacy(input_text_as_str), spacy_pipeline(input_text_as_str).vector).all()\n",
    "    print(\"Success!\")"
   ]
  },
  {
   "cell_type": "code",
   "execution_count": 39,
   "metadata": {
    "id": "wsTeOHpY2g0w"
   },
   "outputs": [
    {
     "name": "stdout",
     "output_type": "stream",
     "text": [
      " Logistic Regression on Word2Vec embedding; accuracy on validation data: 0.9712918660287081\n"
     ]
    }
   ],
   "source": [
    "# This might take around 1 minute to run\n",
    "X_train_spacy = np.vstack([get_document_embedding_from_spacy(x) for x in X_train])\n",
    "X_valid_spacy = np.vstack([get_document_embedding_from_spacy(x) for x in X_val])\n",
    "logreg_w2v = LogisticRegression(random_state=1, max_iter=1000).fit(X_train_spacy, y_train)\n",
    "print(f\" Logistic Regression on Word2Vec embedding; accuracy on validation data: {accuracy_score(y_val , logreg_w2v.predict(X_valid_spacy))}\")"
   ]
  },
  {
   "cell_type": "markdown",
   "metadata": {
    "id": "CUgPJT303570"
   },
   "source": [
    "### Q2.f.b [2 points] Implement the function get_document_embedding_from_spacy_alt below to return the document embedding based on the token vectors.\n",
    "\n",
    "Feel free to let your imagination run, or go with simplicity. Don't use the average as above. Feel free to play around and see what works and what doesn't."
   ]
  },
  {
   "cell_type": "markdown",
   "metadata": {},
   "source": [
    "I used max which would be like taking the most important token in the text for spam recognition"
   ]
  },
  {
   "cell_type": "code",
   "execution_count": 40,
   "metadata": {
    "id": "4PK2CpdcuOil"
   },
   "outputs": [],
   "source": [
    "def get_document_embedding_from_spacy_alt(text:str) -> np.ndarray:\n",
    "    \"\"\"\n",
    "    returns the embedding vector representing the entire text by whatever means you\n",
    "    would like based on the token level embeddings\n",
    "    \"\"\"\n",
    "    tokens = spacy_pipeline(text)\n",
    "\n",
    "    document_embedding = np.max([token.vector for token in tokens], axis=0)\n",
    "\n",
    "    return document_embedding"
   ]
  },
  {
   "cell_type": "code",
   "execution_count": 41,
   "metadata": {
    "id": "UrgKFCLjp2ko"
   },
   "outputs": [
    {
     "name": "stdout",
     "output_type": "stream",
     "text": [
      " Logistic Regression on Word2Vec alternative embedding; accuracy on validation data: 0.9808612440191388\n"
     ]
    }
   ],
   "source": [
    "# This might take around a 1 minute\n",
    "X_train_spacy_alt = np.vstack([get_document_embedding_from_spacy_alt(x) for x in X_train])\n",
    "X_valid_spacy_alt = np.vstack([get_document_embedding_from_spacy_alt(x) for x in X_val])\n",
    "logreg_w2v_alt = LogisticRegression(random_state=1, max_iter=1000).fit(X_train_spacy_alt, y_train)\n",
    "print(f\" Logistic Regression on Word2Vec alternative embedding; accuracy on validation data: {accuracy_score(y_val , logreg_w2v_alt.predict(X_valid_spacy_alt))}\")"
   ]
  },
  {
   "cell_type": "markdown",
   "metadata": {
    "id": "IzxBMiHBvaum"
   },
   "source": [
    "## Combining Embeddings [Free]"
   ]
  },
  {
   "cell_type": "code",
   "execution_count": 42,
   "metadata": {
    "id": "eMx3NlAquqMG"
   },
   "outputs": [
    {
     "name": "stdout",
     "output_type": "stream",
     "text": [
      " Logistic Regression on combined W2V and BoW embeddings; accuracy on validation data: 0.9844497607655502\n"
     ]
    }
   ],
   "source": [
    "X_train_combined = np.hstack((X_train_spacy, vectorized_data_auto.toarray()))\n",
    "X_val_combined = np.hstack((X_valid_spacy, vectorizer_auto.transform(X_val).toarray()))\n",
    "logreg_combined = LogisticRegression(random_state=1, max_iter=1000).fit(X_train_combined, y_train)\n",
    "print(f\" Logistic Regression on combined W2V and BoW embeddings; accuracy on validation data: {logreg_combined.score(X_val_combined, y_val)}\")"
   ]
  },
  {
   "cell_type": "markdown",
   "metadata": {
    "id": "kN4fRAjfxioQ"
   },
   "source": [
    "## [2 points] Q2.g Transformer Model\n",
    "\n",
    "Below we will be using embeddings produced by a \"Transformer\" model (we will learn more about these in week 12/13), for the embedding of each token, it aims to incorporate not only the meaning of the token, but also the specific context in which it occurs here, with the context being a fixed window of size 512."
   ]
  },
  {
   "cell_type": "code",
   "execution_count": 43,
   "metadata": {
    "id": "fWudJJ2Qxhxn"
   },
   "outputs": [],
   "source": [
    "from transformers import AutoTokenizer, AutoModelForSequenceClassification\n",
    "\n",
    "tokenizer = AutoTokenizer.from_pretrained(\"mrm8488/bert-tiny-finetuned-sms-spam-detection\") # This model has been trained on this data\n",
    "\n",
    "model = AutoModelForSequenceClassification.from_pretrained(\"mrm8488/bert-tiny-finetuned-sms-spam-detection\", output_hidden_states = True)"
   ]
  },
  {
   "cell_type": "markdown",
   "metadata": {
    "id": "1F6WNlHq57yJ"
   },
   "source": [
    "### Q2.g.a [2 points] Finish the implementation of get_embedding_from_transformer to produce a document level embedding given some text. "
   ]
  },
  {
   "cell_type": "code",
   "execution_count": 44,
   "metadata": {
    "id": "u49GVcFtxsV4"
   },
   "outputs": [],
   "source": [
    "def get_embedding_from_transformer(text:str) -> np.ndarray:\n",
    "    \"\"\"\n",
    "    Returns an embedding from a transformer model produced by averaging the token level embeddings\n",
    "    \"\"\"\n",
    "    tokenized = tokenizer([text])\n",
    "    for key, value in tokenized.items():\n",
    "        tokenized[key] = torch.LongTensor(value)\n",
    "    with torch.no_grad():\n",
    "        token_embeddings = model.forward(**tokenized)[\"hidden_states\"][0].numpy()[0]\n",
    "    # print(token_embeddings.shape)\n",
    "    document_embedding = np.mean(token_embeddings, axis=0)\n",
    "    return document_embedding"
   ]
  },
  {
   "cell_type": "code",
   "execution_count": 45,
   "metadata": {
    "id": "e2zZOpJb6ZNt"
   },
   "outputs": [],
   "source": [
    "# JUST SOME TESTING THAT IT RUNS AND PRODUCES THE RIGHT SIZE\n",
    "for e in [get_embedding_from_transformer(x) for x in X_train[:3]]:\n",
    "    assert e.shape == (128,)"
   ]
  },
  {
   "cell_type": "code",
   "execution_count": 46,
   "metadata": {
    "id": "RQ_EvOXAylxs"
   },
   "outputs": [
    {
     "name": "stdout",
     "output_type": "stream",
     "text": [
      " Logistic Regression on Transformer embedding accuracy on validation: 0.9844497607655502\n"
     ]
    }
   ],
   "source": [
    "# This might take around a 1 minute\n",
    "X_train_transformer = np.vstack([get_embedding_from_transformer(x) for x in X_train])\n",
    "X_valid_transformer = np.vstack([get_embedding_from_transformer(x) for x in X_val])\n",
    "logreg_transformer = LogisticRegression(random_state=1, max_iter=1000).fit(X_train_transformer, y_train)\n",
    "print(f\" Logistic Regression on Transformer embedding accuracy on validation: {logreg_transformer.score(X_valid_transformer, y_val)}\")"
   ]
  },
  {
   "cell_type": "markdown",
   "metadata": {
    "id": "RLt2Q4iWfeP9"
   },
   "source": [
    "## Q2.h [3 points] Which spam detection method worked best? Why do you think that is? What are some considerations you would need to make to use this model in practice? "
   ]
  },
  {
   "cell_type": "markdown",
   "metadata": {
    "id": "P5LEwqxPpz_P"
   },
   "source": [
    "The transformer model worked best in terms of the accuracy metric. I think that is because it takes into considerations the context in which the word is found, in any language this is very important to know the true meaning of the word. To use this model we would need to consider words that are written the same, homonyms, in orther to avois reaching wrong conclusions."
   ]
  },
  {
   "cell_type": "code",
   "execution_count": null,
   "metadata": {},
   "outputs": [],
   "source": []
  }
 ],
 "metadata": {
  "colab": {
   "collapsed_sections": [
    "MWyKRONCVFYD"
   ],
   "name": "STA414 Homework 3, Part 2: NLP.ipynb",
   "provenance": []
  },
  "kernelspec": {
   "display_name": "Python 3 (ipykernel)",
   "language": "python",
   "name": "python3"
  },
  "language_info": {
   "codemirror_mode": {
    "name": "ipython",
    "version": 3
   },
   "file_extension": ".py",
   "mimetype": "text/x-python",
   "name": "python",
   "nbconvert_exporter": "python",
   "pygments_lexer": "ipython3",
   "version": "3.9.7"
  }
 },
 "nbformat": 4,
 "nbformat_minor": 1
}
